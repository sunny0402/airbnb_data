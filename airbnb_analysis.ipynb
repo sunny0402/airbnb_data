{
 "cells": [
  {
   "attachments": {},
   "cell_type": "markdown",
   "metadata": {},
   "source": [
    "Exploring Airbnb Data For Vancouver\n",
    "\n",
    "Data Source: http://insideairbnb.com/get-the-data\n",
    "\n",
    "Questions:\n",
    "\n",
    "- #1: Does higher price mean higher rating? What if we bin listings according to price: Highest, High, Medium, Low, Lowest. And then review the correlations to ratings in each group?\n",
    "- #2: What if bin listings according to price category and date? What are the price trends for each category throughout the seasons?\n",
    "- #3: What if bin listing according to neighborhood. Are there any trends in each neighborhood? Proportion of superhosts in each neighborhood?\n",
    "- #4:  Aside from review what characteristics can be helpful in predicting a hosts rating?\n",
    "- #5: Can those same factors be used to classify whether a host is a superhost?"
   ]
  },
  {
   "cell_type": "code",
   "execution_count": null,
   "metadata": {},
   "outputs": [],
   "source": [
    "import os\n",
    "import pandas as pd\n",
    "import numpy as np\n",
    "import matplotlib.pyplot as plt\n",
    "import seaborn as sns\n",
    "sns.set_style('whitegrid')"
   ]
  },
  {
   "cell_type": "code",
   "execution_count": null,
   "metadata": {},
   "outputs": [],
   "source": [
    "pd.set_option('display.max_columns',200)\n",
    "pd.set_option('display.max_rows',500)"
   ]
  },
  {
   "attachments": {},
   "cell_type": "markdown",
   "metadata": {},
   "source": [
    "Load Data"
   ]
  },
  {
   "cell_type": "code",
   "execution_count": null,
   "metadata": {},
   "outputs": [],
   "source": [
    "calendar_dfs = []\n",
    "listings_dfs = []\n",
    "reviews_dfs = []\n",
    "\n",
    "for subdir, dirs, files in  os.walk(\"./vancouver_data/\"):\n",
    "    for file in files:\n",
    "        pth = os.path.join(subdir,file)\n",
    "        if \"calendar\" in file:\n",
    "            c_data = pd.read_csv(pth,compression='gzip')\n",
    "            calendar_dfs.append(c_data)\n",
    "        elif \"listings\" in file:\n",
    "            l_data = pd.read_csv(pth)\n",
    "            listings_dfs.append(l_data)\n",
    "        elif \"reviews\" in file:\n",
    "            r_data = pd.read_csv(pth)\n",
    "            reviews_dfs.append(r_data)\n",
    "\n",
    "calendar_df = pd.concat(calendar_dfs,ignore_index=True)\n",
    "listings_df = pd.concat(listings_dfs,ignore_index=True)\n",
    "reviews_df = pd.concat(reviews_dfs,ignore_index=True)"
   ]
  },
  {
   "attachments": {},
   "cell_type": "markdown",
   "metadata": {},
   "source": [
    "Preview Data"
   ]
  },
  {
   "cell_type": "code",
   "execution_count": null,
   "metadata": {},
   "outputs": [],
   "source": [
    "def explore_data(df):\n",
    "    print(\">>> New DataFrame <<< \\n\")\n",
    "    print(\"DataFrame preview: \\n\",df.head())\n",
    "    print(\"*\"*20)\n",
    "    print(\"Shape: \\n\", df.shape)\n",
    "    print(\"*\"*20)\n",
    "    print(\"Statistics: \\n\",df.describe())\n",
    "    print(\"*\"*20)\n",
    "    print(\"Data types: \\n\",df.dtypes)\n",
    "    print(\"*\"*20)\n",
    "    print(\"Columns: \\n\",df.columns)\n",
    "    print(\"*\"*20)\n",
    "    print(\"Index: \\n\",df.index)\n",
    "    print(\"*\"*20)\n",
    "    print(\"Missing Values: \\n\",df.isna().sum())"
   ]
  },
  {
   "cell_type": "code",
   "execution_count": null,
   "metadata": {},
   "outputs": [],
   "source": [
    "# df_list = [calendar_df,listings_df,reviews_df]\n",
    "# for frame in df_list:\n",
    "#     explore_data(frame)"
   ]
  },
  {
   "attachments": {},
   "cell_type": "markdown",
   "metadata": {},
   "source": [
    "Prepare Data For Analysis"
   ]
  },
  {
   "cell_type": "code",
   "execution_count": null,
   "metadata": {},
   "outputs": [],
   "source": [
    "cal_df = calendar_df.copy()\n",
    "lst_df = listings_df.copy()\n",
    "rev_df = reviews_df.copy()\n"
   ]
  },
  {
   "attachments": {},
   "cell_type": "markdown",
   "metadata": {},
   "source": [
    "Calendar DataFrame\n",
    "\n",
    "- Duplicate listing_id as a listing may be available on various dates.\n",
    "- The price of a listing_id may differ depending on date."
   ]
  },
  {
   "cell_type": "code",
   "execution_count": null,
   "metadata": {},
   "outputs": [],
   "source": [
    "cal_df.dtypes"
   ]
  },
  {
   "cell_type": "code",
   "execution_count": null,
   "metadata": {},
   "outputs": [],
   "source": [
    "cal_df.isna().sum()"
   ]
  },
  {
   "cell_type": "code",
   "execution_count": null,
   "metadata": {},
   "outputs": [],
   "source": [
    "cal_df.dropna(inplace=True)"
   ]
  },
  {
   "cell_type": "code",
   "execution_count": null,
   "metadata": {},
   "outputs": [],
   "source": [
    "cal_df.drop(labels=['adjusted_price'],axis=1,inplace=True)"
   ]
  },
  {
   "cell_type": "code",
   "execution_count": null,
   "metadata": {},
   "outputs": [],
   "source": [
    "cal_df['date'] = pd.to_datetime(calendar_df['date'])"
   ]
  },
  {
   "cell_type": "code",
   "execution_count": null,
   "metadata": {},
   "outputs": [],
   "source": [
    "cal_df['price'] = cal_df['price'].str.slice(start=1)\n",
    "cal_df['price'] = cal_df['price'].replace(',','',regex=True)\n",
    "cal_df['price'] = pd.to_numeric(cal_df['price'], errors='coerce')"
   ]
  },
  {
   "cell_type": "code",
   "execution_count": null,
   "metadata": {},
   "outputs": [],
   "source": [
    "cal_df.shape"
   ]
  },
  {
   "cell_type": "code",
   "execution_count": null,
   "metadata": {},
   "outputs": [],
   "source": [
    "cal_df['available'].value_counts()"
   ]
  },
  {
   "cell_type": "code",
   "execution_count": null,
   "metadata": {},
   "outputs": [],
   "source": [
    "cal_df = cal_df[cal_df['available'] == 't']"
   ]
  },
  {
   "cell_type": "code",
   "execution_count": null,
   "metadata": {},
   "outputs": [],
   "source": [
    "cal_df.shape"
   ]
  },
  {
   "cell_type": "code",
   "execution_count": null,
   "metadata": {},
   "outputs": [],
   "source": [
    "cal_df.head()"
   ]
  },
  {
   "attachments": {},
   "cell_type": "markdown",
   "metadata": {},
   "source": [
    "#1: Does higher price mean higher rating? What if we bin listings according to price: Highest, High, Medium, Low, Lowest. And then review the correlations to ratings in each group?"
   ]
  },
  {
   "cell_type": "code",
   "execution_count": null,
   "metadata": {},
   "outputs": [],
   "source": [
    "calendar = cal_df.drop(['available','date',\\\n",
    "                        'minimum_nights','maximum_nights'],axis=1)\n",
    "calendar.head()"
   ]
  },
  {
   "cell_type": "code",
   "execution_count": null,
   "metadata": {},
   "outputs": [],
   "source": [
    "calendar['price_category'] = pd.qcut(calendar['price'],q=5,\\\n",
    "                        labels=['Lowest','Low','Medium','High','Highest']) "
   ]
  },
  {
   "cell_type": "code",
   "execution_count": null,
   "metadata": {},
   "outputs": [],
   "source": [
    "calendar.head()"
   ]
  },
  {
   "cell_type": "code",
   "execution_count": null,
   "metadata": {},
   "outputs": [],
   "source": [
    "ratings = lst_df[['id','review_scores_rating']].dropna(axis=0)"
   ]
  },
  {
   "cell_type": "code",
   "execution_count": null,
   "metadata": {},
   "outputs": [],
   "source": [
    "calendar_join_ratings = pd.merge(left=calendar,\\\n",
    "                                right=ratings,\\\n",
    "                                left_on=\"listing_id\",\\\n",
    "                                right_on=\"id\")"
   ]
  },
  {
   "cell_type": "code",
   "execution_count": null,
   "metadata": {},
   "outputs": [],
   "source": [
    "calendar_join_ratings.head()"
   ]
  },
  {
   "cell_type": "code",
   "execution_count": null,
   "metadata": {},
   "outputs": [],
   "source": [
    "joined = calendar_join_ratings.drop(['listing_id','id'],axis=1)\n",
    "joined.head()"
   ]
  },
  {
   "cell_type": "code",
   "execution_count": null,
   "metadata": {},
   "outputs": [],
   "source": [
    "price_category_grouped = joined.groupby(['price_category'],as_index=False)"
   ]
  },
  {
   "cell_type": "code",
   "execution_count": null,
   "metadata": {},
   "outputs": [],
   "source": [
    "for name,grp in price_category_grouped:\n",
    "    print(name)\n",
    "    print(grp[['price','review_scores_rating']].corr())\n",
    "    print(\"*\"*20)"
   ]
  },
  {
   "attachments": {},
   "cell_type": "markdown",
   "metadata": {},
   "source": [
    "No significant correlations in the different price groups. As as a sanity check let's review the correlation between price and rating for all listings."
   ]
  },
  {
   "cell_type": "code",
   "execution_count": null,
   "metadata": {},
   "outputs": [],
   "source": [
    "calendar_join_ratings[['price','review_scores_rating']].corr()"
   ]
  },
  {
   "attachments": {},
   "cell_type": "markdown",
   "metadata": {},
   "source": [
    "So the price, or from another point of view the cost, has little to do with the rating."
   ]
  },
  {
   "attachments": {},
   "cell_type": "markdown",
   "metadata": {},
   "source": [
    "#2: What if we group listings according not only according to price but also date? \n",
    "\n",
    "Do prices fluctuate depending on the season for the listings in the various price categories (Lowest, Low, Medium, High, Highest)?"
   ]
  },
  {
   "cell_type": "code",
   "execution_count": null,
   "metadata": {},
   "outputs": [],
   "source": [
    "cal_df.head()"
   ]
  },
  {
   "cell_type": "code",
   "execution_count": null,
   "metadata": {},
   "outputs": [],
   "source": [
    "date_df = cal_df.drop(['available','minimum_nights','maximum_nights'],axis=1)"
   ]
  },
  {
   "cell_type": "code",
   "execution_count": null,
   "metadata": {},
   "outputs": [],
   "source": [
    "date_df['month'] = date_df['date'].dt.month"
   ]
  },
  {
   "cell_type": "code",
   "execution_count": null,
   "metadata": {},
   "outputs": [],
   "source": [
    "date_df['price_category'] = pd.qcut(date_df['price'],q=5,\\\n",
    "                        labels=['Lowest','Low','Medium','High','Highest']) "
   ]
  },
  {
   "cell_type": "code",
   "execution_count": null,
   "metadata": {},
   "outputs": [],
   "source": [
    "date_grouped = date_df.groupby(['price_category','month'],as_index=False)"
   ]
  },
  {
   "cell_type": "code",
   "execution_count": null,
   "metadata": {},
   "outputs": [],
   "source": [
    "# for name,grp in date_grouped:\n",
    "#     print(name)\n",
    "#     print(date_grouped.get_group(name))\n",
    "\n",
    "# Output:\n",
    "# ('Lowest', 1)\n",
    "# ('Lowest', 2)\n",
    "# ('Lowest', 3)\n",
    "# ..."
   ]
  },
  {
   "cell_type": "code",
   "execution_count": null,
   "metadata": {},
   "outputs": [],
   "source": [
    "categories_data = {'Lowest':[],'Low':[],'Medium':[],'High':[],'Highest':[] }"
   ]
  },
  {
   "cell_type": "code",
   "execution_count": null,
   "metadata": {},
   "outputs": [],
   "source": [
    "for name,grp in date_grouped:\n",
    "    # month_num = name[1]\n",
    "    # num_listings = grp['listing_id'].count()\n",
    "    median_price = grp['price'].median()\n",
    "    price_cat = name[0]\n",
    "    categories_data[price_cat].append(median_price)"
   ]
  },
  {
   "cell_type": "code",
   "execution_count": null,
   "metadata": {},
   "outputs": [],
   "source": [
    "summary_df = pd.DataFrame(data=categories_data,\\\n",
    "                          columns=categories_data.keys(),\\\n",
    "                            index=[x for x in range(1,13)])\n",
    "\n",
    "summary_df"
   ]
  },
  {
   "cell_type": "code",
   "execution_count": null,
   "metadata": {},
   "outputs": [],
   "source": [
    "summary_df.max()"
   ]
  },
  {
   "cell_type": "code",
   "execution_count": null,
   "metadata": {},
   "outputs": [],
   "source": [
    "# def highlight_max(input_df):\n",
    "#     print(type(input_df))\n",
    "#     styled_df = input_df.copy()\n",
    "#     styled_df[styled_df ==] = 'background-color: red'\n",
    "#     return styled_df\n",
    "\n",
    "def highlight_max(input_df):\n",
    "    color = \"red\"\n",
    "    attr = \"background-color: {}\".format(color)\n",
    "    # print(type(input_df))\n",
    "    is_max = input_df == input_df.max()\n",
    "    return pd.DataFrame(np.where(is_max,attr,''),\\\n",
    "            index=input_df.index,\\\n",
    "            columns=input_df.columns )\n",
    "\n",
    "summary_df.style.apply(highlight_max,axis=None) #subset=['Highest']"
   ]
  },
  {
   "attachments": {},
   "cell_type": "markdown",
   "metadata": {},
   "source": [
    "So as you can see the per night price does not fluctuate much throughout the year. This could be a sign that the demand is consistent throughout the year. And there is enough supply to meet incoming tourists, so no price surge."
   ]
  },
  {
   "cell_type": "code",
   "execution_count": null,
   "metadata": {},
   "outputs": [],
   "source": [
    "for col in summary_df.columns:\n",
    "    price_range = summary_df[col].max() - summary_df[col].min()\n",
    "    mean_price = summary_df[col].mean()\n",
    "    most_exp_months = []\n",
    "    for m in summary_df[col]:\n",
    "        print(m)\n",
    "    print(\"Price Range for {col} category is ${price_range}\"\\\n",
    "          .format(col=col,price_range=price_range))\n",
    "    "
   ]
  },
  {
   "attachments": {},
   "cell_type": "markdown",
   "metadata": {},
   "source": [
    "The dataframe plots the median price for each price category and month.\n",
    "What is the most expensive month for each category? Least expensive?"
   ]
  },
  {
   "cell_type": "code",
   "execution_count": null,
   "metadata": {},
   "outputs": [],
   "source": [
    "sns.lineplot(data=summary_df).set_title(\"Median Price For Category\")\n",
    "plt.show()"
   ]
  },
  {
   "cell_type": "code",
   "execution_count": null,
   "metadata": {},
   "outputs": [],
   "source": []
  }
 ],
 "metadata": {
  "kernelspec": {
   "display_name": "explore_data",
   "language": "python",
   "name": "python3"
  },
  "language_info": {
   "codemirror_mode": {
    "name": "ipython",
    "version": 3
   },
   "file_extension": ".py",
   "mimetype": "text/x-python",
   "name": "python",
   "nbconvert_exporter": "python",
   "pygments_lexer": "ipython3",
   "version": "3.10.12"
  },
  "orig_nbformat": 4,
  "vscode": {
   "interpreter": {
    "hash": "61ee244c42315ecc49a37ad94395d343cf26155652760a1aec32be1e60ecf717"
   }
  }
 },
 "nbformat": 4,
 "nbformat_minor": 2
}
