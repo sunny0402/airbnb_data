{
 "cells": [
  {
   "attachments": {},
   "cell_type": "markdown",
   "metadata": {},
   "source": [
    "Exploring Airbnb Data For Vancouver\n",
    "\n",
    "Data Source: http://insideairbnb.com/get-the-data\n",
    "\n",
    "Questions:\n",
    "\n",
    "- #1: Does higher price mean higher rating? What if we bin listings according to price: Highest, High, Medium, Low, Lowest. And then review the correlations to ratings in each group?\n",
    "- #2: What if bin listings according to date? What are the price trends through the seasons?\n",
    "- What if bin listing according to neighborhood. Are there any trends in each neighborhood? Proportion of superhosts in each neighborhood?\n",
    "- Aside from review what characteristics can be helpful in predicting a hosts rating?\n",
    "- Can those same factors be used to classify whether a host is a superhost?"
   ]
  },
  {
   "cell_type": "code",
   "execution_count": 48,
   "metadata": {},
   "outputs": [],
   "source": [
    "import os\n",
    "import pandas as pd\n",
    "import numpy as np\n",
    "import matplotlib.pyplot as plt\n",
    "import seaborn as sns\n",
    "sns.set_style('whitegrid')"
   ]
  },
  {
   "cell_type": "code",
   "execution_count": 49,
   "metadata": {},
   "outputs": [],
   "source": [
    "pd.set_option('display.max_columns',200)\n",
    "pd.set_option('display.max_rows',500)"
   ]
  },
  {
   "attachments": {},
   "cell_type": "markdown",
   "metadata": {},
   "source": [
    "Load Data"
   ]
  },
  {
   "cell_type": "code",
   "execution_count": 50,
   "metadata": {},
   "outputs": [],
   "source": [
    "calendar_dfs = []\n",
    "listings_dfs = []\n",
    "reviews_dfs = []\n",
    "\n",
    "for subdir, dirs, files in  os.walk(\"./vancouver_data/\"):\n",
    "    for file in files:\n",
    "        pth = os.path.join(subdir,file)\n",
    "        if \"calendar\" in file:\n",
    "            c_data = pd.read_csv(pth,compression='gzip')\n",
    "            calendar_dfs.append(c_data)\n",
    "        elif \"listings\" in file:\n",
    "            l_data = pd.read_csv(pth)\n",
    "            listings_dfs.append(l_data)\n",
    "        elif \"reviews\" in file:\n",
    "            r_data = pd.read_csv(pth)\n",
    "            reviews_dfs.append(r_data)\n",
    "\n",
    "calendar_df = pd.concat(calendar_dfs,ignore_index=True)\n",
    "listings_df = pd.concat(listings_dfs,ignore_index=True)\n",
    "reviews_df = pd.concat(reviews_dfs,ignore_index=True)"
   ]
  },
  {
   "attachments": {},
   "cell_type": "markdown",
   "metadata": {},
   "source": [
    "Preview Data"
   ]
  },
  {
   "cell_type": "code",
   "execution_count": 51,
   "metadata": {},
   "outputs": [],
   "source": [
    "def explore_data(df):\n",
    "    print(\">>> New DataFrame <<< \\n\")\n",
    "    print(\"DataFrame preview: \\n\",df.head())\n",
    "    print(\"*\"*20)\n",
    "    print(\"Shape: \\n\", df.shape)\n",
    "    print(\"*\"*20)\n",
    "    print(\"Statistics: \\n\",df.describe())\n",
    "    print(\"*\"*20)\n",
    "    print(\"Data types: \\n\",df.dtypes)\n",
    "    print(\"*\"*20)\n",
    "    print(\"Columns: \\n\",df.columns)\n",
    "    print(\"*\"*20)\n",
    "    print(\"Index: \\n\",df.index)\n",
    "    print(\"*\"*20)\n",
    "    print(\"Missing Values: \\n\",df.isna().sum())"
   ]
  },
  {
   "cell_type": "code",
   "execution_count": 52,
   "metadata": {},
   "outputs": [],
   "source": [
    "# df_list = [calendar_df,listings_df,reviews_df]\n",
    "# for frame in df_list:\n",
    "#     explore_data(frame)"
   ]
  },
  {
   "attachments": {},
   "cell_type": "markdown",
   "metadata": {},
   "source": [
    "Prepare Data For Analysis"
   ]
  },
  {
   "cell_type": "code",
   "execution_count": 53,
   "metadata": {},
   "outputs": [],
   "source": [
    "cal_df = calendar_df.copy()\n",
    "lst_df = listings_df.copy()\n",
    "rev_df = reviews_df.copy()\n"
   ]
  },
  {
   "attachments": {},
   "cell_type": "markdown",
   "metadata": {},
   "source": [
    "Calendar DataFrame\n",
    "\n",
    "- Duplicate listing_id as a listing may be available on various dates.\n",
    "- The price of a listing_id may differ depending on date."
   ]
  },
  {
   "cell_type": "code",
   "execution_count": 54,
   "metadata": {},
   "outputs": [
    {
     "data": {
      "text/plain": [
       "listing_id          int64\n",
       "date               object\n",
       "available          object\n",
       "price              object\n",
       "adjusted_price     object\n",
       "minimum_nights    float64\n",
       "maximum_nights    float64\n",
       "dtype: object"
      ]
     },
     "execution_count": 54,
     "metadata": {},
     "output_type": "execute_result"
    }
   ],
   "source": [
    "cal_df.dtypes"
   ]
  },
  {
   "cell_type": "code",
   "execution_count": 55,
   "metadata": {},
   "outputs": [
    {
     "data": {
      "text/plain": [
       "listing_id           0\n",
       "date                 0\n",
       "available            0\n",
       "price             1119\n",
       "adjusted_price    1119\n",
       "minimum_nights       6\n",
       "maximum_nights       6\n",
       "dtype: int64"
      ]
     },
     "execution_count": 55,
     "metadata": {},
     "output_type": "execute_result"
    }
   ],
   "source": [
    "cal_df.isna().sum()"
   ]
  },
  {
   "cell_type": "code",
   "execution_count": 56,
   "metadata": {},
   "outputs": [],
   "source": [
    "cal_df.dropna(inplace=True)"
   ]
  },
  {
   "cell_type": "code",
   "execution_count": 57,
   "metadata": {},
   "outputs": [],
   "source": [
    "cal_df.drop(labels=['adjusted_price'],axis=1,inplace=True)"
   ]
  },
  {
   "cell_type": "code",
   "execution_count": 58,
   "metadata": {},
   "outputs": [],
   "source": [
    "cal_df['date'] = pd.to_datetime(calendar_df['date'])"
   ]
  },
  {
   "cell_type": "code",
   "execution_count": 59,
   "metadata": {},
   "outputs": [],
   "source": [
    "cal_df['price'] = cal_df['price'].str.slice(start=1)\n",
    "cal_df['price'] = cal_df['price'].replace(',','',regex=True)\n",
    "cal_df['price'] = pd.to_numeric(cal_df['price'], errors='coerce')"
   ]
  },
  {
   "cell_type": "code",
   "execution_count": 60,
   "metadata": {},
   "outputs": [
    {
     "data": {
      "text/plain": [
       "(9014736, 6)"
      ]
     },
     "execution_count": 60,
     "metadata": {},
     "output_type": "execute_result"
    }
   ],
   "source": [
    "cal_df.shape"
   ]
  },
  {
   "cell_type": "code",
   "execution_count": 61,
   "metadata": {},
   "outputs": [
    {
     "data": {
      "text/plain": [
       "available\n",
       "f    5520817\n",
       "t    3493919\n",
       "Name: count, dtype: int64"
      ]
     },
     "execution_count": 61,
     "metadata": {},
     "output_type": "execute_result"
    }
   ],
   "source": [
    "cal_df['available'].value_counts()"
   ]
  },
  {
   "cell_type": "code",
   "execution_count": 62,
   "metadata": {},
   "outputs": [],
   "source": [
    "cal_df = cal_df[cal_df['available'] == 't']"
   ]
  },
  {
   "cell_type": "code",
   "execution_count": 63,
   "metadata": {},
   "outputs": [
    {
     "data": {
      "text/plain": [
       "(3493919, 6)"
      ]
     },
     "execution_count": 63,
     "metadata": {},
     "output_type": "execute_result"
    }
   ],
   "source": [
    "cal_df.shape"
   ]
  },
  {
   "cell_type": "code",
   "execution_count": 64,
   "metadata": {},
   "outputs": [
    {
     "data": {
      "text/html": [
       "<div>\n",
       "<style scoped>\n",
       "    .dataframe tbody tr th:only-of-type {\n",
       "        vertical-align: middle;\n",
       "    }\n",
       "\n",
       "    .dataframe tbody tr th {\n",
       "        vertical-align: top;\n",
       "    }\n",
       "\n",
       "    .dataframe thead th {\n",
       "        text-align: right;\n",
       "    }\n",
       "</style>\n",
       "<table border=\"1\" class=\"dataframe\">\n",
       "  <thead>\n",
       "    <tr style=\"text-align: right;\">\n",
       "      <th></th>\n",
       "      <th>listing_id</th>\n",
       "      <th>date</th>\n",
       "      <th>available</th>\n",
       "      <th>price</th>\n",
       "      <th>minimum_nights</th>\n",
       "      <th>maximum_nights</th>\n",
       "    </tr>\n",
       "  </thead>\n",
       "  <tbody>\n",
       "    <tr>\n",
       "      <th>1</th>\n",
       "      <td>13358</td>\n",
       "      <td>2022-12-12</td>\n",
       "      <td>t</td>\n",
       "      <td>150.0</td>\n",
       "      <td>3.0</td>\n",
       "      <td>90.0</td>\n",
       "    </tr>\n",
       "    <tr>\n",
       "      <th>2</th>\n",
       "      <td>13358</td>\n",
       "      <td>2022-12-13</td>\n",
       "      <td>t</td>\n",
       "      <td>150.0</td>\n",
       "      <td>3.0</td>\n",
       "      <td>90.0</td>\n",
       "    </tr>\n",
       "    <tr>\n",
       "      <th>3</th>\n",
       "      <td>13358</td>\n",
       "      <td>2022-12-14</td>\n",
       "      <td>t</td>\n",
       "      <td>150.0</td>\n",
       "      <td>3.0</td>\n",
       "      <td>90.0</td>\n",
       "    </tr>\n",
       "    <tr>\n",
       "      <th>4</th>\n",
       "      <td>13358</td>\n",
       "      <td>2022-12-15</td>\n",
       "      <td>t</td>\n",
       "      <td>150.0</td>\n",
       "      <td>3.0</td>\n",
       "      <td>90.0</td>\n",
       "    </tr>\n",
       "    <tr>\n",
       "      <th>5</th>\n",
       "      <td>13358</td>\n",
       "      <td>2022-12-16</td>\n",
       "      <td>t</td>\n",
       "      <td>150.0</td>\n",
       "      <td>3.0</td>\n",
       "      <td>90.0</td>\n",
       "    </tr>\n",
       "  </tbody>\n",
       "</table>\n",
       "</div>"
      ],
      "text/plain": [
       "   listing_id       date available  price  minimum_nights  maximum_nights\n",
       "1       13358 2022-12-12         t  150.0             3.0            90.0\n",
       "2       13358 2022-12-13         t  150.0             3.0            90.0\n",
       "3       13358 2022-12-14         t  150.0             3.0            90.0\n",
       "4       13358 2022-12-15         t  150.0             3.0            90.0\n",
       "5       13358 2022-12-16         t  150.0             3.0            90.0"
      ]
     },
     "execution_count": 64,
     "metadata": {},
     "output_type": "execute_result"
    }
   ],
   "source": [
    "cal_df.head()"
   ]
  },
  {
   "attachments": {},
   "cell_type": "markdown",
   "metadata": {},
   "source": [
    "#1: Does higher price mean higher rating? What if we bin listings according to price: Highest, High, Medium, Low, Lowest. And then review the correlations to ratings in each group?"
   ]
  },
  {
   "cell_type": "code",
   "execution_count": 65,
   "metadata": {},
   "outputs": [
    {
     "data": {
      "text/html": [
       "<div>\n",
       "<style scoped>\n",
       "    .dataframe tbody tr th:only-of-type {\n",
       "        vertical-align: middle;\n",
       "    }\n",
       "\n",
       "    .dataframe tbody tr th {\n",
       "        vertical-align: top;\n",
       "    }\n",
       "\n",
       "    .dataframe thead th {\n",
       "        text-align: right;\n",
       "    }\n",
       "</style>\n",
       "<table border=\"1\" class=\"dataframe\">\n",
       "  <thead>\n",
       "    <tr style=\"text-align: right;\">\n",
       "      <th></th>\n",
       "      <th>listing_id</th>\n",
       "      <th>price</th>\n",
       "    </tr>\n",
       "  </thead>\n",
       "  <tbody>\n",
       "    <tr>\n",
       "      <th>1</th>\n",
       "      <td>13358</td>\n",
       "      <td>150.0</td>\n",
       "    </tr>\n",
       "    <tr>\n",
       "      <th>2</th>\n",
       "      <td>13358</td>\n",
       "      <td>150.0</td>\n",
       "    </tr>\n",
       "    <tr>\n",
       "      <th>3</th>\n",
       "      <td>13358</td>\n",
       "      <td>150.0</td>\n",
       "    </tr>\n",
       "    <tr>\n",
       "      <th>4</th>\n",
       "      <td>13358</td>\n",
       "      <td>150.0</td>\n",
       "    </tr>\n",
       "    <tr>\n",
       "      <th>5</th>\n",
       "      <td>13358</td>\n",
       "      <td>150.0</td>\n",
       "    </tr>\n",
       "  </tbody>\n",
       "</table>\n",
       "</div>"
      ],
      "text/plain": [
       "   listing_id  price\n",
       "1       13358  150.0\n",
       "2       13358  150.0\n",
       "3       13358  150.0\n",
       "4       13358  150.0\n",
       "5       13358  150.0"
      ]
     },
     "execution_count": 65,
     "metadata": {},
     "output_type": "execute_result"
    }
   ],
   "source": [
    "calendar = cal_df.drop(['available','date',\\\n",
    "                        'minimum_nights','maximum_nights'],axis=1)\n",
    "calendar.head()"
   ]
  },
  {
   "cell_type": "code",
   "execution_count": 66,
   "metadata": {},
   "outputs": [],
   "source": [
    "calendar['price_category'] = pd.qcut(calendar['price'],q=5,\\\n",
    "                        labels=['Lowest','Low','Medium','High','Highest']) "
   ]
  },
  {
   "cell_type": "code",
   "execution_count": 67,
   "metadata": {},
   "outputs": [
    {
     "data": {
      "text/html": [
       "<div>\n",
       "<style scoped>\n",
       "    .dataframe tbody tr th:only-of-type {\n",
       "        vertical-align: middle;\n",
       "    }\n",
       "\n",
       "    .dataframe tbody tr th {\n",
       "        vertical-align: top;\n",
       "    }\n",
       "\n",
       "    .dataframe thead th {\n",
       "        text-align: right;\n",
       "    }\n",
       "</style>\n",
       "<table border=\"1\" class=\"dataframe\">\n",
       "  <thead>\n",
       "    <tr style=\"text-align: right;\">\n",
       "      <th></th>\n",
       "      <th>listing_id</th>\n",
       "      <th>price</th>\n",
       "      <th>price_category</th>\n",
       "    </tr>\n",
       "  </thead>\n",
       "  <tbody>\n",
       "    <tr>\n",
       "      <th>1</th>\n",
       "      <td>13358</td>\n",
       "      <td>150.0</td>\n",
       "      <td>Low</td>\n",
       "    </tr>\n",
       "    <tr>\n",
       "      <th>2</th>\n",
       "      <td>13358</td>\n",
       "      <td>150.0</td>\n",
       "      <td>Low</td>\n",
       "    </tr>\n",
       "    <tr>\n",
       "      <th>3</th>\n",
       "      <td>13358</td>\n",
       "      <td>150.0</td>\n",
       "      <td>Low</td>\n",
       "    </tr>\n",
       "    <tr>\n",
       "      <th>4</th>\n",
       "      <td>13358</td>\n",
       "      <td>150.0</td>\n",
       "      <td>Low</td>\n",
       "    </tr>\n",
       "    <tr>\n",
       "      <th>5</th>\n",
       "      <td>13358</td>\n",
       "      <td>150.0</td>\n",
       "      <td>Low</td>\n",
       "    </tr>\n",
       "  </tbody>\n",
       "</table>\n",
       "</div>"
      ],
      "text/plain": [
       "   listing_id  price price_category\n",
       "1       13358  150.0            Low\n",
       "2       13358  150.0            Low\n",
       "3       13358  150.0            Low\n",
       "4       13358  150.0            Low\n",
       "5       13358  150.0            Low"
      ]
     },
     "execution_count": 67,
     "metadata": {},
     "output_type": "execute_result"
    }
   ],
   "source": [
    "calendar.head()"
   ]
  },
  {
   "cell_type": "code",
   "execution_count": 68,
   "metadata": {},
   "outputs": [],
   "source": [
    "ratings = lst_df[['id','review_scores_rating']].dropna(axis=0)"
   ]
  },
  {
   "cell_type": "code",
   "execution_count": 69,
   "metadata": {},
   "outputs": [],
   "source": [
    "calendar_join_ratings = pd.merge(left=calendar,\\\n",
    "                                right=ratings,\\\n",
    "                                left_on=\"listing_id\",\\\n",
    "                                right_on=\"id\")"
   ]
  },
  {
   "cell_type": "code",
   "execution_count": 70,
   "metadata": {},
   "outputs": [
    {
     "data": {
      "text/html": [
       "<div>\n",
       "<style scoped>\n",
       "    .dataframe tbody tr th:only-of-type {\n",
       "        vertical-align: middle;\n",
       "    }\n",
       "\n",
       "    .dataframe tbody tr th {\n",
       "        vertical-align: top;\n",
       "    }\n",
       "\n",
       "    .dataframe thead th {\n",
       "        text-align: right;\n",
       "    }\n",
       "</style>\n",
       "<table border=\"1\" class=\"dataframe\">\n",
       "  <thead>\n",
       "    <tr style=\"text-align: right;\">\n",
       "      <th></th>\n",
       "      <th>listing_id</th>\n",
       "      <th>price</th>\n",
       "      <th>price_category</th>\n",
       "      <th>id</th>\n",
       "      <th>review_scores_rating</th>\n",
       "    </tr>\n",
       "  </thead>\n",
       "  <tbody>\n",
       "    <tr>\n",
       "      <th>0</th>\n",
       "      <td>13358</td>\n",
       "      <td>150.0</td>\n",
       "      <td>Low</td>\n",
       "      <td>13358</td>\n",
       "      <td>4.67</td>\n",
       "    </tr>\n",
       "    <tr>\n",
       "      <th>1</th>\n",
       "      <td>13358</td>\n",
       "      <td>150.0</td>\n",
       "      <td>Low</td>\n",
       "      <td>13358</td>\n",
       "      <td>4.68</td>\n",
       "    </tr>\n",
       "    <tr>\n",
       "      <th>2</th>\n",
       "      <td>13358</td>\n",
       "      <td>150.0</td>\n",
       "      <td>Low</td>\n",
       "      <td>13358</td>\n",
       "      <td>4.68</td>\n",
       "    </tr>\n",
       "    <tr>\n",
       "      <th>3</th>\n",
       "      <td>13358</td>\n",
       "      <td>150.0</td>\n",
       "      <td>Low</td>\n",
       "      <td>13358</td>\n",
       "      <td>4.68</td>\n",
       "    </tr>\n",
       "    <tr>\n",
       "      <th>4</th>\n",
       "      <td>13358</td>\n",
       "      <td>150.0</td>\n",
       "      <td>Low</td>\n",
       "      <td>13358</td>\n",
       "      <td>4.67</td>\n",
       "    </tr>\n",
       "  </tbody>\n",
       "</table>\n",
       "</div>"
      ],
      "text/plain": [
       "   listing_id  price price_category     id  review_scores_rating\n",
       "0       13358  150.0            Low  13358                  4.67\n",
       "1       13358  150.0            Low  13358                  4.68\n",
       "2       13358  150.0            Low  13358                  4.68\n",
       "3       13358  150.0            Low  13358                  4.68\n",
       "4       13358  150.0            Low  13358                  4.67"
      ]
     },
     "execution_count": 70,
     "metadata": {},
     "output_type": "execute_result"
    }
   ],
   "source": [
    "calendar_join_ratings.head()"
   ]
  },
  {
   "cell_type": "code",
   "execution_count": 71,
   "metadata": {},
   "outputs": [
    {
     "data": {
      "text/html": [
       "<div>\n",
       "<style scoped>\n",
       "    .dataframe tbody tr th:only-of-type {\n",
       "        vertical-align: middle;\n",
       "    }\n",
       "\n",
       "    .dataframe tbody tr th {\n",
       "        vertical-align: top;\n",
       "    }\n",
       "\n",
       "    .dataframe thead th {\n",
       "        text-align: right;\n",
       "    }\n",
       "</style>\n",
       "<table border=\"1\" class=\"dataframe\">\n",
       "  <thead>\n",
       "    <tr style=\"text-align: right;\">\n",
       "      <th></th>\n",
       "      <th>price</th>\n",
       "      <th>price_category</th>\n",
       "      <th>review_scores_rating</th>\n",
       "    </tr>\n",
       "  </thead>\n",
       "  <tbody>\n",
       "    <tr>\n",
       "      <th>0</th>\n",
       "      <td>150.0</td>\n",
       "      <td>Low</td>\n",
       "      <td>4.67</td>\n",
       "    </tr>\n",
       "    <tr>\n",
       "      <th>1</th>\n",
       "      <td>150.0</td>\n",
       "      <td>Low</td>\n",
       "      <td>4.68</td>\n",
       "    </tr>\n",
       "    <tr>\n",
       "      <th>2</th>\n",
       "      <td>150.0</td>\n",
       "      <td>Low</td>\n",
       "      <td>4.68</td>\n",
       "    </tr>\n",
       "    <tr>\n",
       "      <th>3</th>\n",
       "      <td>150.0</td>\n",
       "      <td>Low</td>\n",
       "      <td>4.68</td>\n",
       "    </tr>\n",
       "    <tr>\n",
       "      <th>4</th>\n",
       "      <td>150.0</td>\n",
       "      <td>Low</td>\n",
       "      <td>4.67</td>\n",
       "    </tr>\n",
       "  </tbody>\n",
       "</table>\n",
       "</div>"
      ],
      "text/plain": [
       "   price price_category  review_scores_rating\n",
       "0  150.0            Low                  4.67\n",
       "1  150.0            Low                  4.68\n",
       "2  150.0            Low                  4.68\n",
       "3  150.0            Low                  4.68\n",
       "4  150.0            Low                  4.67"
      ]
     },
     "execution_count": 71,
     "metadata": {},
     "output_type": "execute_result"
    }
   ],
   "source": [
    "joined = calendar_join_ratings.drop(['listing_id','id'],axis=1)\n",
    "joined.head()"
   ]
  },
  {
   "cell_type": "code",
   "execution_count": 72,
   "metadata": {},
   "outputs": [],
   "source": [
    "price_category_grouped = joined.groupby(['price_category'],as_index=False)"
   ]
  },
  {
   "cell_type": "code",
   "execution_count": 73,
   "metadata": {},
   "outputs": [
    {
     "name": "stdout",
     "output_type": "stream",
     "text": [
      "('Lowest',)\n",
      "                         price  review_scores_rating\n",
      "price                 1.000000              0.150582\n",
      "review_scores_rating  0.150582              1.000000\n",
      "********************\n",
      "('Low',)\n",
      "                         price  review_scores_rating\n",
      "price                 1.000000             -0.041802\n",
      "review_scores_rating -0.041802              1.000000\n",
      "********************\n",
      "('Medium',)\n",
      "                         price  review_scores_rating\n",
      "price                 1.000000              0.047232\n",
      "review_scores_rating  0.047232              1.000000\n",
      "********************\n",
      "('High',)\n",
      "                         price  review_scores_rating\n",
      "price                 1.000000              0.032858\n",
      "review_scores_rating  0.032858              1.000000\n",
      "********************\n",
      "('Highest',)\n",
      "                        price  review_scores_rating\n",
      "price                 1.00000              -0.03349\n",
      "review_scores_rating -0.03349               1.00000\n",
      "********************\n"
     ]
    }
   ],
   "source": [
    "for name,grp in price_category_grouped:\n",
    "    print(name)\n",
    "    print(grp[['price','review_scores_rating']].corr())\n",
    "    print(\"*\"*20)"
   ]
  },
  {
   "attachments": {},
   "cell_type": "markdown",
   "metadata": {},
   "source": [
    "No significant correlations in the different price groups. As as a sanity check let's review the correlation between price and rating for all listings."
   ]
  },
  {
   "cell_type": "code",
   "execution_count": 74,
   "metadata": {},
   "outputs": [
    {
     "data": {
      "text/html": [
       "<div>\n",
       "<style scoped>\n",
       "    .dataframe tbody tr th:only-of-type {\n",
       "        vertical-align: middle;\n",
       "    }\n",
       "\n",
       "    .dataframe tbody tr th {\n",
       "        vertical-align: top;\n",
       "    }\n",
       "\n",
       "    .dataframe thead th {\n",
       "        text-align: right;\n",
       "    }\n",
       "</style>\n",
       "<table border=\"1\" class=\"dataframe\">\n",
       "  <thead>\n",
       "    <tr style=\"text-align: right;\">\n",
       "      <th></th>\n",
       "      <th>price</th>\n",
       "      <th>review_scores_rating</th>\n",
       "    </tr>\n",
       "  </thead>\n",
       "  <tbody>\n",
       "    <tr>\n",
       "      <th>price</th>\n",
       "      <td>1.000000</td>\n",
       "      <td>0.005459</td>\n",
       "    </tr>\n",
       "    <tr>\n",
       "      <th>review_scores_rating</th>\n",
       "      <td>0.005459</td>\n",
       "      <td>1.000000</td>\n",
       "    </tr>\n",
       "  </tbody>\n",
       "</table>\n",
       "</div>"
      ],
      "text/plain": [
       "                         price  review_scores_rating\n",
       "price                 1.000000              0.005459\n",
       "review_scores_rating  0.005459              1.000000"
      ]
     },
     "execution_count": 74,
     "metadata": {},
     "output_type": "execute_result"
    }
   ],
   "source": [
    "calendar_join_ratings[['price','review_scores_rating']].corr()"
   ]
  },
  {
   "attachments": {},
   "cell_type": "markdown",
   "metadata": {},
   "source": [
    "So the price, or from another point of view the cost, has little to do with the rating."
   ]
  },
  {
   "attachments": {},
   "cell_type": "markdown",
   "metadata": {},
   "source": [
    "#2: What if we group listings according not only according to price but also date? \n",
    "\n",
    "Do prices fluctuate depending on the season for the listings in the various price categories (Lowest, Low, Medium, High, Highest)?"
   ]
  },
  {
   "cell_type": "code",
   "execution_count": 75,
   "metadata": {},
   "outputs": [
    {
     "data": {
      "text/html": [
       "<div>\n",
       "<style scoped>\n",
       "    .dataframe tbody tr th:only-of-type {\n",
       "        vertical-align: middle;\n",
       "    }\n",
       "\n",
       "    .dataframe tbody tr th {\n",
       "        vertical-align: top;\n",
       "    }\n",
       "\n",
       "    .dataframe thead th {\n",
       "        text-align: right;\n",
       "    }\n",
       "</style>\n",
       "<table border=\"1\" class=\"dataframe\">\n",
       "  <thead>\n",
       "    <tr style=\"text-align: right;\">\n",
       "      <th></th>\n",
       "      <th>listing_id</th>\n",
       "      <th>date</th>\n",
       "      <th>available</th>\n",
       "      <th>price</th>\n",
       "      <th>minimum_nights</th>\n",
       "      <th>maximum_nights</th>\n",
       "    </tr>\n",
       "  </thead>\n",
       "  <tbody>\n",
       "    <tr>\n",
       "      <th>1</th>\n",
       "      <td>13358</td>\n",
       "      <td>2022-12-12</td>\n",
       "      <td>t</td>\n",
       "      <td>150.0</td>\n",
       "      <td>3.0</td>\n",
       "      <td>90.0</td>\n",
       "    </tr>\n",
       "    <tr>\n",
       "      <th>2</th>\n",
       "      <td>13358</td>\n",
       "      <td>2022-12-13</td>\n",
       "      <td>t</td>\n",
       "      <td>150.0</td>\n",
       "      <td>3.0</td>\n",
       "      <td>90.0</td>\n",
       "    </tr>\n",
       "    <tr>\n",
       "      <th>3</th>\n",
       "      <td>13358</td>\n",
       "      <td>2022-12-14</td>\n",
       "      <td>t</td>\n",
       "      <td>150.0</td>\n",
       "      <td>3.0</td>\n",
       "      <td>90.0</td>\n",
       "    </tr>\n",
       "    <tr>\n",
       "      <th>4</th>\n",
       "      <td>13358</td>\n",
       "      <td>2022-12-15</td>\n",
       "      <td>t</td>\n",
       "      <td>150.0</td>\n",
       "      <td>3.0</td>\n",
       "      <td>90.0</td>\n",
       "    </tr>\n",
       "    <tr>\n",
       "      <th>5</th>\n",
       "      <td>13358</td>\n",
       "      <td>2022-12-16</td>\n",
       "      <td>t</td>\n",
       "      <td>150.0</td>\n",
       "      <td>3.0</td>\n",
       "      <td>90.0</td>\n",
       "    </tr>\n",
       "  </tbody>\n",
       "</table>\n",
       "</div>"
      ],
      "text/plain": [
       "   listing_id       date available  price  minimum_nights  maximum_nights\n",
       "1       13358 2022-12-12         t  150.0             3.0            90.0\n",
       "2       13358 2022-12-13         t  150.0             3.0            90.0\n",
       "3       13358 2022-12-14         t  150.0             3.0            90.0\n",
       "4       13358 2022-12-15         t  150.0             3.0            90.0\n",
       "5       13358 2022-12-16         t  150.0             3.0            90.0"
      ]
     },
     "execution_count": 75,
     "metadata": {},
     "output_type": "execute_result"
    }
   ],
   "source": [
    "cal_df.head()"
   ]
  },
  {
   "cell_type": "code",
   "execution_count": 76,
   "metadata": {},
   "outputs": [],
   "source": [
    "date_df = cal_df.drop(['available','minimum_nights','maximum_nights'],axis=1)"
   ]
  },
  {
   "cell_type": "code",
   "execution_count": 77,
   "metadata": {},
   "outputs": [],
   "source": [
    "date_df['month'] = date_df['date'].dt.month"
   ]
  },
  {
   "cell_type": "code",
   "execution_count": 78,
   "metadata": {},
   "outputs": [],
   "source": [
    "date_df['price_category'] = pd.qcut(date_df['price'],q=5,\\\n",
    "                        labels=['Lowest','Low','Medium','High','Highest']) "
   ]
  },
  {
   "cell_type": "code",
   "execution_count": 79,
   "metadata": {},
   "outputs": [],
   "source": [
    "date_grouped = date_df.groupby(['price_category','month'],as_index=False)"
   ]
  },
  {
   "cell_type": "code",
   "execution_count": 80,
   "metadata": {},
   "outputs": [],
   "source": [
    "# for name,grp in date_grouped:\n",
    "#     print(name)\n",
    "#     print(date_grouped.get_group(name))\n",
    "\n",
    "# Output:\n",
    "# ('Lowest', 1)\n",
    "# ('Lowest', 2)\n",
    "# ('Lowest', 3)\n",
    "# ..."
   ]
  },
  {
   "cell_type": "code",
   "execution_count": 81,
   "metadata": {},
   "outputs": [],
   "source": [
    "categories_data = {'Lowest':[],'Low':[],'Medium':[],'High':[],'Highest':[] }"
   ]
  },
  {
   "cell_type": "code",
   "execution_count": 82,
   "metadata": {},
   "outputs": [],
   "source": [
    "for name,grp in date_grouped:\n",
    "    # month_num = name[1]\n",
    "    # num_listings = grp['listing_id'].count()\n",
    "    median_price = grp['price'].median()\n",
    "    price_cat = name[0]\n",
    "    categories_data[price_cat].append(median_price)"
   ]
  },
  {
   "cell_type": "code",
   "execution_count": 83,
   "metadata": {},
   "outputs": [
    {
     "data": {
      "text/html": [
       "<div>\n",
       "<style scoped>\n",
       "    .dataframe tbody tr th:only-of-type {\n",
       "        vertical-align: middle;\n",
       "    }\n",
       "\n",
       "    .dataframe tbody tr th {\n",
       "        vertical-align: top;\n",
       "    }\n",
       "\n",
       "    .dataframe thead th {\n",
       "        text-align: right;\n",
       "    }\n",
       "</style>\n",
       "<table border=\"1\" class=\"dataframe\">\n",
       "  <thead>\n",
       "    <tr style=\"text-align: right;\">\n",
       "      <th></th>\n",
       "      <th>Lowest</th>\n",
       "      <th>Low</th>\n",
       "      <th>Medium</th>\n",
       "      <th>High</th>\n",
       "      <th>Highest</th>\n",
       "    </tr>\n",
       "  </thead>\n",
       "  <tbody>\n",
       "    <tr>\n",
       "      <th>1</th>\n",
       "      <td>98.0</td>\n",
       "      <td>142.0</td>\n",
       "      <td>192.0</td>\n",
       "      <td>275.0</td>\n",
       "      <td>500.0</td>\n",
       "    </tr>\n",
       "    <tr>\n",
       "      <th>2</th>\n",
       "      <td>98.0</td>\n",
       "      <td>140.0</td>\n",
       "      <td>194.0</td>\n",
       "      <td>275.0</td>\n",
       "      <td>500.0</td>\n",
       "    </tr>\n",
       "    <tr>\n",
       "      <th>3</th>\n",
       "      <td>96.0</td>\n",
       "      <td>140.0</td>\n",
       "      <td>195.0</td>\n",
       "      <td>275.0</td>\n",
       "      <td>500.0</td>\n",
       "    </tr>\n",
       "    <tr>\n",
       "      <th>4</th>\n",
       "      <td>95.0</td>\n",
       "      <td>141.0</td>\n",
       "      <td>194.0</td>\n",
       "      <td>275.0</td>\n",
       "      <td>500.0</td>\n",
       "    </tr>\n",
       "    <tr>\n",
       "      <th>5</th>\n",
       "      <td>96.0</td>\n",
       "      <td>143.0</td>\n",
       "      <td>193.0</td>\n",
       "      <td>276.0</td>\n",
       "      <td>500.0</td>\n",
       "    </tr>\n",
       "    <tr>\n",
       "      <th>6</th>\n",
       "      <td>95.0</td>\n",
       "      <td>145.0</td>\n",
       "      <td>193.0</td>\n",
       "      <td>279.0</td>\n",
       "      <td>506.0</td>\n",
       "    </tr>\n",
       "    <tr>\n",
       "      <th>7</th>\n",
       "      <td>92.0</td>\n",
       "      <td>145.0</td>\n",
       "      <td>193.0</td>\n",
       "      <td>281.0</td>\n",
       "      <td>522.0</td>\n",
       "    </tr>\n",
       "    <tr>\n",
       "      <th>8</th>\n",
       "      <td>95.0</td>\n",
       "      <td>144.0</td>\n",
       "      <td>192.0</td>\n",
       "      <td>285.0</td>\n",
       "      <td>510.0</td>\n",
       "    </tr>\n",
       "    <tr>\n",
       "      <th>9</th>\n",
       "      <td>97.0</td>\n",
       "      <td>143.0</td>\n",
       "      <td>195.0</td>\n",
       "      <td>279.0</td>\n",
       "      <td>500.0</td>\n",
       "    </tr>\n",
       "    <tr>\n",
       "      <th>10</th>\n",
       "      <td>98.0</td>\n",
       "      <td>140.0</td>\n",
       "      <td>195.0</td>\n",
       "      <td>275.0</td>\n",
       "      <td>499.0</td>\n",
       "    </tr>\n",
       "    <tr>\n",
       "      <th>11</th>\n",
       "      <td>98.0</td>\n",
       "      <td>140.0</td>\n",
       "      <td>193.0</td>\n",
       "      <td>275.0</td>\n",
       "      <td>499.0</td>\n",
       "    </tr>\n",
       "    <tr>\n",
       "      <th>12</th>\n",
       "      <td>96.0</td>\n",
       "      <td>142.0</td>\n",
       "      <td>195.0</td>\n",
       "      <td>275.0</td>\n",
       "      <td>500.0</td>\n",
       "    </tr>\n",
       "  </tbody>\n",
       "</table>\n",
       "</div>"
      ],
      "text/plain": [
       "    Lowest    Low  Medium   High  Highest\n",
       "1     98.0  142.0   192.0  275.0    500.0\n",
       "2     98.0  140.0   194.0  275.0    500.0\n",
       "3     96.0  140.0   195.0  275.0    500.0\n",
       "4     95.0  141.0   194.0  275.0    500.0\n",
       "5     96.0  143.0   193.0  276.0    500.0\n",
       "6     95.0  145.0   193.0  279.0    506.0\n",
       "7     92.0  145.0   193.0  281.0    522.0\n",
       "8     95.0  144.0   192.0  285.0    510.0\n",
       "9     97.0  143.0   195.0  279.0    500.0\n",
       "10    98.0  140.0   195.0  275.0    499.0\n",
       "11    98.0  140.0   193.0  275.0    499.0\n",
       "12    96.0  142.0   195.0  275.0    500.0"
      ]
     },
     "execution_count": 83,
     "metadata": {},
     "output_type": "execute_result"
    }
   ],
   "source": [
    "summary_df = pd.DataFrame(data=categories_data,\\\n",
    "                          columns=categories_data.keys(),\\\n",
    "                            index=[x for x in range(1,13)])\n",
    "\n",
    "summary_df"
   ]
  },
  {
   "cell_type": "code",
   "execution_count": 84,
   "metadata": {},
   "outputs": [
    {
     "data": {
      "text/plain": [
       "Lowest      98.0\n",
       "Low        145.0\n",
       "Medium     195.0\n",
       "High       285.0\n",
       "Highest    522.0\n",
       "dtype: float64"
      ]
     },
     "execution_count": 84,
     "metadata": {},
     "output_type": "execute_result"
    }
   ],
   "source": [
    "summary_df.max()"
   ]
  },
  {
   "cell_type": "code",
   "execution_count": 85,
   "metadata": {},
   "outputs": [
    {
     "data": {
      "text/html": [
       "<style type=\"text/css\">\n",
       "#T_64cb9_row0_col0, #T_64cb9_row1_col0, #T_64cb9_row2_col2, #T_64cb9_row5_col1, #T_64cb9_row6_col1, #T_64cb9_row6_col4, #T_64cb9_row7_col3, #T_64cb9_row8_col2, #T_64cb9_row9_col0, #T_64cb9_row9_col2, #T_64cb9_row10_col0, #T_64cb9_row11_col2 {\n",
       "  background-color: red;\n",
       "}\n",
       "</style>\n",
       "<table id=\"T_64cb9\">\n",
       "  <thead>\n",
       "    <tr>\n",
       "      <th class=\"blank level0\" >&nbsp;</th>\n",
       "      <th id=\"T_64cb9_level0_col0\" class=\"col_heading level0 col0\" >Lowest</th>\n",
       "      <th id=\"T_64cb9_level0_col1\" class=\"col_heading level0 col1\" >Low</th>\n",
       "      <th id=\"T_64cb9_level0_col2\" class=\"col_heading level0 col2\" >Medium</th>\n",
       "      <th id=\"T_64cb9_level0_col3\" class=\"col_heading level0 col3\" >High</th>\n",
       "      <th id=\"T_64cb9_level0_col4\" class=\"col_heading level0 col4\" >Highest</th>\n",
       "    </tr>\n",
       "  </thead>\n",
       "  <tbody>\n",
       "    <tr>\n",
       "      <th id=\"T_64cb9_level0_row0\" class=\"row_heading level0 row0\" >1</th>\n",
       "      <td id=\"T_64cb9_row0_col0\" class=\"data row0 col0\" >98.000000</td>\n",
       "      <td id=\"T_64cb9_row0_col1\" class=\"data row0 col1\" >142.000000</td>\n",
       "      <td id=\"T_64cb9_row0_col2\" class=\"data row0 col2\" >192.000000</td>\n",
       "      <td id=\"T_64cb9_row0_col3\" class=\"data row0 col3\" >275.000000</td>\n",
       "      <td id=\"T_64cb9_row0_col4\" class=\"data row0 col4\" >500.000000</td>\n",
       "    </tr>\n",
       "    <tr>\n",
       "      <th id=\"T_64cb9_level0_row1\" class=\"row_heading level0 row1\" >2</th>\n",
       "      <td id=\"T_64cb9_row1_col0\" class=\"data row1 col0\" >98.000000</td>\n",
       "      <td id=\"T_64cb9_row1_col1\" class=\"data row1 col1\" >140.000000</td>\n",
       "      <td id=\"T_64cb9_row1_col2\" class=\"data row1 col2\" >194.000000</td>\n",
       "      <td id=\"T_64cb9_row1_col3\" class=\"data row1 col3\" >275.000000</td>\n",
       "      <td id=\"T_64cb9_row1_col4\" class=\"data row1 col4\" >500.000000</td>\n",
       "    </tr>\n",
       "    <tr>\n",
       "      <th id=\"T_64cb9_level0_row2\" class=\"row_heading level0 row2\" >3</th>\n",
       "      <td id=\"T_64cb9_row2_col0\" class=\"data row2 col0\" >96.000000</td>\n",
       "      <td id=\"T_64cb9_row2_col1\" class=\"data row2 col1\" >140.000000</td>\n",
       "      <td id=\"T_64cb9_row2_col2\" class=\"data row2 col2\" >195.000000</td>\n",
       "      <td id=\"T_64cb9_row2_col3\" class=\"data row2 col3\" >275.000000</td>\n",
       "      <td id=\"T_64cb9_row2_col4\" class=\"data row2 col4\" >500.000000</td>\n",
       "    </tr>\n",
       "    <tr>\n",
       "      <th id=\"T_64cb9_level0_row3\" class=\"row_heading level0 row3\" >4</th>\n",
       "      <td id=\"T_64cb9_row3_col0\" class=\"data row3 col0\" >95.000000</td>\n",
       "      <td id=\"T_64cb9_row3_col1\" class=\"data row3 col1\" >141.000000</td>\n",
       "      <td id=\"T_64cb9_row3_col2\" class=\"data row3 col2\" >194.000000</td>\n",
       "      <td id=\"T_64cb9_row3_col3\" class=\"data row3 col3\" >275.000000</td>\n",
       "      <td id=\"T_64cb9_row3_col4\" class=\"data row3 col4\" >500.000000</td>\n",
       "    </tr>\n",
       "    <tr>\n",
       "      <th id=\"T_64cb9_level0_row4\" class=\"row_heading level0 row4\" >5</th>\n",
       "      <td id=\"T_64cb9_row4_col0\" class=\"data row4 col0\" >96.000000</td>\n",
       "      <td id=\"T_64cb9_row4_col1\" class=\"data row4 col1\" >143.000000</td>\n",
       "      <td id=\"T_64cb9_row4_col2\" class=\"data row4 col2\" >193.000000</td>\n",
       "      <td id=\"T_64cb9_row4_col3\" class=\"data row4 col3\" >276.000000</td>\n",
       "      <td id=\"T_64cb9_row4_col4\" class=\"data row4 col4\" >500.000000</td>\n",
       "    </tr>\n",
       "    <tr>\n",
       "      <th id=\"T_64cb9_level0_row5\" class=\"row_heading level0 row5\" >6</th>\n",
       "      <td id=\"T_64cb9_row5_col0\" class=\"data row5 col0\" >95.000000</td>\n",
       "      <td id=\"T_64cb9_row5_col1\" class=\"data row5 col1\" >145.000000</td>\n",
       "      <td id=\"T_64cb9_row5_col2\" class=\"data row5 col2\" >193.000000</td>\n",
       "      <td id=\"T_64cb9_row5_col3\" class=\"data row5 col3\" >279.000000</td>\n",
       "      <td id=\"T_64cb9_row5_col4\" class=\"data row5 col4\" >506.000000</td>\n",
       "    </tr>\n",
       "    <tr>\n",
       "      <th id=\"T_64cb9_level0_row6\" class=\"row_heading level0 row6\" >7</th>\n",
       "      <td id=\"T_64cb9_row6_col0\" class=\"data row6 col0\" >92.000000</td>\n",
       "      <td id=\"T_64cb9_row6_col1\" class=\"data row6 col1\" >145.000000</td>\n",
       "      <td id=\"T_64cb9_row6_col2\" class=\"data row6 col2\" >193.000000</td>\n",
       "      <td id=\"T_64cb9_row6_col3\" class=\"data row6 col3\" >281.000000</td>\n",
       "      <td id=\"T_64cb9_row6_col4\" class=\"data row6 col4\" >522.000000</td>\n",
       "    </tr>\n",
       "    <tr>\n",
       "      <th id=\"T_64cb9_level0_row7\" class=\"row_heading level0 row7\" >8</th>\n",
       "      <td id=\"T_64cb9_row7_col0\" class=\"data row7 col0\" >95.000000</td>\n",
       "      <td id=\"T_64cb9_row7_col1\" class=\"data row7 col1\" >144.000000</td>\n",
       "      <td id=\"T_64cb9_row7_col2\" class=\"data row7 col2\" >192.000000</td>\n",
       "      <td id=\"T_64cb9_row7_col3\" class=\"data row7 col3\" >285.000000</td>\n",
       "      <td id=\"T_64cb9_row7_col4\" class=\"data row7 col4\" >510.000000</td>\n",
       "    </tr>\n",
       "    <tr>\n",
       "      <th id=\"T_64cb9_level0_row8\" class=\"row_heading level0 row8\" >9</th>\n",
       "      <td id=\"T_64cb9_row8_col0\" class=\"data row8 col0\" >97.000000</td>\n",
       "      <td id=\"T_64cb9_row8_col1\" class=\"data row8 col1\" >143.000000</td>\n",
       "      <td id=\"T_64cb9_row8_col2\" class=\"data row8 col2\" >195.000000</td>\n",
       "      <td id=\"T_64cb9_row8_col3\" class=\"data row8 col3\" >279.000000</td>\n",
       "      <td id=\"T_64cb9_row8_col4\" class=\"data row8 col4\" >500.000000</td>\n",
       "    </tr>\n",
       "    <tr>\n",
       "      <th id=\"T_64cb9_level0_row9\" class=\"row_heading level0 row9\" >10</th>\n",
       "      <td id=\"T_64cb9_row9_col0\" class=\"data row9 col0\" >98.000000</td>\n",
       "      <td id=\"T_64cb9_row9_col1\" class=\"data row9 col1\" >140.000000</td>\n",
       "      <td id=\"T_64cb9_row9_col2\" class=\"data row9 col2\" >195.000000</td>\n",
       "      <td id=\"T_64cb9_row9_col3\" class=\"data row9 col3\" >275.000000</td>\n",
       "      <td id=\"T_64cb9_row9_col4\" class=\"data row9 col4\" >499.000000</td>\n",
       "    </tr>\n",
       "    <tr>\n",
       "      <th id=\"T_64cb9_level0_row10\" class=\"row_heading level0 row10\" >11</th>\n",
       "      <td id=\"T_64cb9_row10_col0\" class=\"data row10 col0\" >98.000000</td>\n",
       "      <td id=\"T_64cb9_row10_col1\" class=\"data row10 col1\" >140.000000</td>\n",
       "      <td id=\"T_64cb9_row10_col2\" class=\"data row10 col2\" >193.000000</td>\n",
       "      <td id=\"T_64cb9_row10_col3\" class=\"data row10 col3\" >275.000000</td>\n",
       "      <td id=\"T_64cb9_row10_col4\" class=\"data row10 col4\" >499.000000</td>\n",
       "    </tr>\n",
       "    <tr>\n",
       "      <th id=\"T_64cb9_level0_row11\" class=\"row_heading level0 row11\" >12</th>\n",
       "      <td id=\"T_64cb9_row11_col0\" class=\"data row11 col0\" >96.000000</td>\n",
       "      <td id=\"T_64cb9_row11_col1\" class=\"data row11 col1\" >142.000000</td>\n",
       "      <td id=\"T_64cb9_row11_col2\" class=\"data row11 col2\" >195.000000</td>\n",
       "      <td id=\"T_64cb9_row11_col3\" class=\"data row11 col3\" >275.000000</td>\n",
       "      <td id=\"T_64cb9_row11_col4\" class=\"data row11 col4\" >500.000000</td>\n",
       "    </tr>\n",
       "  </tbody>\n",
       "</table>\n"
      ],
      "text/plain": [
       "<pandas.io.formats.style.Styler at 0x16e0c2f70>"
      ]
     },
     "execution_count": 85,
     "metadata": {},
     "output_type": "execute_result"
    }
   ],
   "source": [
    "# def highlight_max(input_df):\n",
    "#     print(type(input_df))\n",
    "#     styled_df = input_df.copy()\n",
    "#     styled_df[styled_df ==] = 'background-color: red'\n",
    "#     return styled_df\n",
    "\n",
    "def highlight_max(input_df):\n",
    "    color = \"red\"\n",
    "    attr = \"background-color: {}\".format(color)\n",
    "    # print(type(input_df))\n",
    "    is_max = input_df == input_df.max()\n",
    "    return pd.DataFrame(np.where(is_max,attr,''),\\\n",
    "            index=input_df.index,\\\n",
    "            columns=input_df.columns )\n",
    "\n",
    "summary_df.style.apply(highlight_max,axis=None) #subset=['Highest']"
   ]
  },
  {
   "attachments": {},
   "cell_type": "markdown",
   "metadata": {},
   "source": [
    "So as you can see the per night price does not fluctuate much throughout the year. This could be a sign that the demand is consistent throughout the year. And there is enough supply to meet incoming tourists, so no price surge."
   ]
  },
  {
   "cell_type": "code",
   "execution_count": 92,
   "metadata": {},
   "outputs": [
    {
     "name": "stdout",
     "output_type": "stream",
     "text": [
      "Price Range for Lowest category is $6.0\n",
      "Price Range for Low category is $5.0\n",
      "Price Range for Medium category is $3.0\n",
      "Price Range for High category is $10.0\n",
      "Price Range for Highest category is $23.0\n"
     ]
    }
   ],
   "source": [
    "for col in summary_df.columns:\n",
    "    price_range = summary_df[col].max() - summary_df[col].min()\n",
    "    print(\"Price Range for {col} category is ${price_range}\"\\\n",
    "          .format(col=col,price_range=price_range))"
   ]
  },
  {
   "attachments": {},
   "cell_type": "markdown",
   "metadata": {},
   "source": [
    "The dataframe plots the median price for each price category and month.\n",
    "What is the most expensive month for each category? Least expensive?"
   ]
  },
  {
   "cell_type": "code",
   "execution_count": 86,
   "metadata": {},
   "outputs": [
    {
     "data": {
      "image/png": "[encoded data removed]",
      "text/plain": [
       "<Figure size 640x480 with 1 Axes>"
      ]
     },
     "metadata": {},
     "output_type": "display_data"
    }
   ],
   "source": [
    "sns.lineplot(data=summary_df).set_title(\"Median Price For Category\")\n",
    "plt.show()"
   ]
  },
  {
   "cell_type": "code",
   "execution_count": 87,
   "metadata": {},
   "outputs": [],
   "source": [
    "# categories = ['Lowest','Low','Medium','High','Highest']\n",
    "# x = [month for month in summary_df['month'].unique()]\n",
    "# y = {}\n",
    "# for cat in categories:\n",
    "#     category_price_series = summary_df[summary_df['price_category'] == cat]['median_price']\n",
    "#     y[cat] = category_price_series\n"
   ]
  },
  {
   "cell_type": "code",
   "execution_count": null,
   "metadata": {},
   "outputs": [],
   "source": []
  }
 ],
 "metadata": {
  "kernelspec": {
   "display_name": "explore_data",
   "language": "python",
   "name": "python3"
  },
  "language_info": {
   "codemirror_mode": {
    "name": "ipython",
    "version": 3
   },
   "file_extension": ".py",
   "mimetype": "text/x-python",
   "name": "python",
   "nbconvert_exporter": "python",
   "pygments_lexer": "ipython3",
   "version": "3.9.16 | packaged by conda-forge | (main, Feb  1 2023, 21:42:20) \n[Clang 14.0.6 ]"
  },
  "orig_nbformat": 4,
  "vscode": {
   "interpreter": {
    "hash": "61ee244c42315ecc49a37ad94395d343cf26155652760a1aec32be1e60ecf717"
   }
  }
 },
 "nbformat": 4,
 "nbformat_minor": 2
}
