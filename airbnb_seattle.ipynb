{
 "cells": [
  {
   "cell_type": "code",
   "execution_count": 1,
   "metadata": {},
   "outputs": [],
   "source": [
    "# TODO\n",
    "# Use Toronto data: http://insideairbnb.com/get-the-data/"
   ]
  },
  {
   "attachments": {},
   "cell_type": "markdown",
   "metadata": {},
   "source": [
    "AirBnb Seattle\n",
    "\n",
    "- #1: Does higher price mean higher rating? What if we bin listings according to price: Highest, High, Medium, Low, Lowest. And then review the correlations to ratings in each group?\n",
    "- #2: What if bin listings according to date? What are the price trends through the seasons?\n",
    "- What if bin listing according to neighborhood. Are there any trends in each neighborhood? Proportion of superhosts in each neighborhood?\n",
    "- Aside from review what characteristics can be helpful in predicting a hosts rating?\n",
    "- Can those same factors be used to classify whether a host is a superhost?"
   ]
  },
  {
   "cell_type": "code",
   "execution_count": 2,
   "metadata": {},
   "outputs": [],
   "source": [
    "import pandas as pd\n",
    "import numpy as np\n",
    "import matplotlib.pyplot as plt\n",
    "import seaborn as sns\n",
    "sns.set_style('whitegrid')"
   ]
  },
  {
   "cell_type": "code",
   "execution_count": 3,
   "metadata": {},
   "outputs": [],
   "source": [
    "pd.set_option('display.max_columns',200)\n",
    "pd.set_option('display.max_rows',500)"
   ]
  },
  {
   "cell_type": "code",
   "execution_count": 4,
   "metadata": {},
   "outputs": [],
   "source": [
    "calendar_df = pd.read_csv(\"./seattle_data/calendar.csv\")\n",
    "listings_df = pd.read_csv(\"./seattle_data/listings.csv\")\n",
    "reviews_df = pd.read_csv(\"./seattle_data/reviews.csv\")"
   ]
  },
  {
   "cell_type": "code",
   "execution_count": 5,
   "metadata": {},
   "outputs": [],
   "source": [
    "def explore_data(df):\n",
    "    print(\">>> New DataFrame <<< \\n\")\n",
    "    print(\"df.head(): \\n\",df.head())\n",
    "    print(\"*\"*20)\n",
    "    print(\"df.shape: \\n\", df.shape)\n",
    "    print(\"*\"*20)\n",
    "    print(\"df.describe(): \\n\",df.describe())\n",
    "    print(\"*\"*20)\n",
    "    print(\"df.dtypes: \\n\",df.dtypes)\n",
    "    print(\"*\"*20)\n",
    "    print(\"df.columns: \\n\",df.columns)\n",
    "    print(\"*\"*20)\n",
    "    print(\"df.index: \\n\",df.index)\n",
    "    print(\"*\"*20)\n",
    "    print(\"df.insa().sum(): \\n\",df.isna().sum())"
   ]
  },
  {
   "cell_type": "code",
   "execution_count": 6,
   "metadata": {},
   "outputs": [],
   "source": [
    "# df_list = [calendar_df,listings_df,reviews_df]\n",
    "# for frame in df_list:\n",
    "#     explore_data(frame)\n",
    "\n",
    "    "
   ]
  },
  {
   "attachments": {},
   "cell_type": "markdown",
   "metadata": {},
   "source": [
    "Prepare Data For Analysis"
   ]
  },
  {
   "cell_type": "code",
   "execution_count": 7,
   "metadata": {},
   "outputs": [],
   "source": [
    "cal_df = calendar_df.copy()\n",
    "lst_df = listings_df.copy()\n",
    "rev_df = reviews_df.copy()\n"
   ]
  },
  {
   "attachments": {},
   "cell_type": "markdown",
   "metadata": {},
   "source": [
    "Calendar DataFrame\n",
    "\n",
    "- Duplicate listing_id as a listing may be available on various dates.\n",
    "- The price of a listing_id may differ depending on date."
   ]
  },
  {
   "cell_type": "code",
   "execution_count": 8,
   "metadata": {},
   "outputs": [
    {
     "data": {
      "text/plain": [
       "listing_id     int64\n",
       "date          object\n",
       "available     object\n",
       "price         object\n",
       "dtype: object"
      ]
     },
     "execution_count": 8,
     "metadata": {},
     "output_type": "execute_result"
    }
   ],
   "source": [
    "cal_df.dtypes"
   ]
  },
  {
   "cell_type": "code",
   "execution_count": 9,
   "metadata": {},
   "outputs": [
    {
     "data": {
      "text/plain": [
       "listing_id         0\n",
       "date               0\n",
       "available          0\n",
       "price         459028\n",
       "dtype: int64"
      ]
     },
     "execution_count": 9,
     "metadata": {},
     "output_type": "execute_result"
    }
   ],
   "source": [
    "cal_df.isna().sum()"
   ]
  },
  {
   "cell_type": "code",
   "execution_count": 10,
   "metadata": {},
   "outputs": [],
   "source": [
    "cal_df.dropna(inplace=True)"
   ]
  },
  {
   "cell_type": "code",
   "execution_count": 11,
   "metadata": {},
   "outputs": [],
   "source": [
    "cal_df['date'] = pd.to_datetime(calendar_df['date'])"
   ]
  },
  {
   "cell_type": "code",
   "execution_count": 12,
   "metadata": {},
   "outputs": [],
   "source": [
    "cal_df['price'] = cal_df['price'].str.slice(start=1)\n",
    "cal_df['price'] = cal_df['price'].replace(',','',regex=True)\n",
    "cal_df['price'] = pd.to_numeric(cal_df['price'], errors='coerce')"
   ]
  },
  {
   "cell_type": "code",
   "execution_count": 13,
   "metadata": {},
   "outputs": [
    {
     "data": {
      "text/plain": [
       "(934542, 4)"
      ]
     },
     "execution_count": 13,
     "metadata": {},
     "output_type": "execute_result"
    }
   ],
   "source": [
    "cal_df.shape"
   ]
  },
  {
   "cell_type": "code",
   "execution_count": 14,
   "metadata": {},
   "outputs": [
    {
     "data": {
      "text/plain": [
       "1"
      ]
     },
     "execution_count": 14,
     "metadata": {},
     "output_type": "execute_result"
    }
   ],
   "source": [
    "cal_df['available'].nunique()"
   ]
  },
  {
   "attachments": {},
   "cell_type": "markdown",
   "metadata": {},
   "source": [
    "#1: Does higher price mean higher rating? What if we bin listings according to price: Highest, High, Medium, Low, Lowest. And then review the correlations to ratings in each group?"
   ]
  },
  {
   "cell_type": "code",
   "execution_count": 15,
   "metadata": {},
   "outputs": [
    {
     "data": {
      "text/html": [
       "<div>\n",
       "<style scoped>\n",
       "    .dataframe tbody tr th:only-of-type {\n",
       "        vertical-align: middle;\n",
       "    }\n",
       "\n",
       "    .dataframe tbody tr th {\n",
       "        vertical-align: top;\n",
       "    }\n",
       "\n",
       "    .dataframe thead th {\n",
       "        text-align: right;\n",
       "    }\n",
       "</style>\n",
       "<table border=\"1\" class=\"dataframe\">\n",
       "  <thead>\n",
       "    <tr style=\"text-align: right;\">\n",
       "      <th></th>\n",
       "      <th>listing_id</th>\n",
       "      <th>price</th>\n",
       "    </tr>\n",
       "  </thead>\n",
       "  <tbody>\n",
       "    <tr>\n",
       "      <th>0</th>\n",
       "      <td>241032</td>\n",
       "      <td>85.0</td>\n",
       "    </tr>\n",
       "    <tr>\n",
       "      <th>1</th>\n",
       "      <td>241032</td>\n",
       "      <td>85.0</td>\n",
       "    </tr>\n",
       "    <tr>\n",
       "      <th>9</th>\n",
       "      <td>241032</td>\n",
       "      <td>85.0</td>\n",
       "    </tr>\n",
       "    <tr>\n",
       "      <th>10</th>\n",
       "      <td>241032</td>\n",
       "      <td>85.0</td>\n",
       "    </tr>\n",
       "    <tr>\n",
       "      <th>14</th>\n",
       "      <td>241032</td>\n",
       "      <td>85.0</td>\n",
       "    </tr>\n",
       "  </tbody>\n",
       "</table>\n",
       "</div>"
      ],
      "text/plain": [
       "    listing_id  price\n",
       "0       241032   85.0\n",
       "1       241032   85.0\n",
       "9       241032   85.0\n",
       "10      241032   85.0\n",
       "14      241032   85.0"
      ]
     },
     "execution_count": 15,
     "metadata": {},
     "output_type": "execute_result"
    }
   ],
   "source": [
    "calendar = cal_df.drop(['available','date'],axis=1)\n",
    "calendar.head()"
   ]
  },
  {
   "cell_type": "code",
   "execution_count": 16,
   "metadata": {},
   "outputs": [],
   "source": [
    "calendar['price_category'] = pd.qcut(calendar['price'],q=5,\\\n",
    "                        labels=['Lowest','Low','Medium','High','Highest']) "
   ]
  },
  {
   "cell_type": "code",
   "execution_count": 17,
   "metadata": {},
   "outputs": [
    {
     "data": {
      "text/html": [
       "<div>\n",
       "<style scoped>\n",
       "    .dataframe tbody tr th:only-of-type {\n",
       "        vertical-align: middle;\n",
       "    }\n",
       "\n",
       "    .dataframe tbody tr th {\n",
       "        vertical-align: top;\n",
       "    }\n",
       "\n",
       "    .dataframe thead th {\n",
       "        text-align: right;\n",
       "    }\n",
       "</style>\n",
       "<table border=\"1\" class=\"dataframe\">\n",
       "  <thead>\n",
       "    <tr style=\"text-align: right;\">\n",
       "      <th></th>\n",
       "      <th>listing_id</th>\n",
       "      <th>price</th>\n",
       "      <th>price_category</th>\n",
       "    </tr>\n",
       "  </thead>\n",
       "  <tbody>\n",
       "    <tr>\n",
       "      <th>0</th>\n",
       "      <td>241032</td>\n",
       "      <td>85.0</td>\n",
       "      <td>Low</td>\n",
       "    </tr>\n",
       "    <tr>\n",
       "      <th>1</th>\n",
       "      <td>241032</td>\n",
       "      <td>85.0</td>\n",
       "      <td>Low</td>\n",
       "    </tr>\n",
       "    <tr>\n",
       "      <th>9</th>\n",
       "      <td>241032</td>\n",
       "      <td>85.0</td>\n",
       "      <td>Low</td>\n",
       "    </tr>\n",
       "    <tr>\n",
       "      <th>10</th>\n",
       "      <td>241032</td>\n",
       "      <td>85.0</td>\n",
       "      <td>Low</td>\n",
       "    </tr>\n",
       "    <tr>\n",
       "      <th>14</th>\n",
       "      <td>241032</td>\n",
       "      <td>85.0</td>\n",
       "      <td>Low</td>\n",
       "    </tr>\n",
       "  </tbody>\n",
       "</table>\n",
       "</div>"
      ],
      "text/plain": [
       "    listing_id  price price_category\n",
       "0       241032   85.0            Low\n",
       "1       241032   85.0            Low\n",
       "9       241032   85.0            Low\n",
       "10      241032   85.0            Low\n",
       "14      241032   85.0            Low"
      ]
     },
     "execution_count": 17,
     "metadata": {},
     "output_type": "execute_result"
    }
   ],
   "source": [
    "calendar.head()"
   ]
  },
  {
   "cell_type": "code",
   "execution_count": 18,
   "metadata": {},
   "outputs": [],
   "source": [
    "ratings = lst_df[['id','review_scores_rating']].dropna(axis=0)"
   ]
  },
  {
   "cell_type": "code",
   "execution_count": 19,
   "metadata": {},
   "outputs": [],
   "source": [
    "calendar_join_ratings = pd.merge(left=calendar,\\\n",
    "                                right=ratings,\\\n",
    "                                left_on=\"listing_id\",\\\n",
    "                                right_on=\"id\")"
   ]
  },
  {
   "cell_type": "code",
   "execution_count": 20,
   "metadata": {},
   "outputs": [
    {
     "data": {
      "text/html": [
       "<div>\n",
       "<style scoped>\n",
       "    .dataframe tbody tr th:only-of-type {\n",
       "        vertical-align: middle;\n",
       "    }\n",
       "\n",
       "    .dataframe tbody tr th {\n",
       "        vertical-align: top;\n",
       "    }\n",
       "\n",
       "    .dataframe thead th {\n",
       "        text-align: right;\n",
       "    }\n",
       "</style>\n",
       "<table border=\"1\" class=\"dataframe\">\n",
       "  <thead>\n",
       "    <tr style=\"text-align: right;\">\n",
       "      <th></th>\n",
       "      <th>listing_id</th>\n",
       "      <th>price</th>\n",
       "      <th>price_category</th>\n",
       "      <th>id</th>\n",
       "      <th>review_scores_rating</th>\n",
       "    </tr>\n",
       "  </thead>\n",
       "  <tbody>\n",
       "    <tr>\n",
       "      <th>0</th>\n",
       "      <td>241032</td>\n",
       "      <td>85.0</td>\n",
       "      <td>Low</td>\n",
       "      <td>241032</td>\n",
       "      <td>95.0</td>\n",
       "    </tr>\n",
       "    <tr>\n",
       "      <th>1</th>\n",
       "      <td>241032</td>\n",
       "      <td>85.0</td>\n",
       "      <td>Low</td>\n",
       "      <td>241032</td>\n",
       "      <td>95.0</td>\n",
       "    </tr>\n",
       "    <tr>\n",
       "      <th>2</th>\n",
       "      <td>241032</td>\n",
       "      <td>85.0</td>\n",
       "      <td>Low</td>\n",
       "      <td>241032</td>\n",
       "      <td>95.0</td>\n",
       "    </tr>\n",
       "    <tr>\n",
       "      <th>3</th>\n",
       "      <td>241032</td>\n",
       "      <td>85.0</td>\n",
       "      <td>Low</td>\n",
       "      <td>241032</td>\n",
       "      <td>95.0</td>\n",
       "    </tr>\n",
       "    <tr>\n",
       "      <th>4</th>\n",
       "      <td>241032</td>\n",
       "      <td>85.0</td>\n",
       "      <td>Low</td>\n",
       "      <td>241032</td>\n",
       "      <td>95.0</td>\n",
       "    </tr>\n",
       "  </tbody>\n",
       "</table>\n",
       "</div>"
      ],
      "text/plain": [
       "   listing_id  price price_category      id  review_scores_rating\n",
       "0      241032   85.0            Low  241032                  95.0\n",
       "1      241032   85.0            Low  241032                  95.0\n",
       "2      241032   85.0            Low  241032                  95.0\n",
       "3      241032   85.0            Low  241032                  95.0\n",
       "4      241032   85.0            Low  241032                  95.0"
      ]
     },
     "execution_count": 20,
     "metadata": {},
     "output_type": "execute_result"
    }
   ],
   "source": [
    "calendar_join_ratings.head()"
   ]
  },
  {
   "cell_type": "code",
   "execution_count": 21,
   "metadata": {},
   "outputs": [
    {
     "data": {
      "text/html": [
       "<div>\n",
       "<style scoped>\n",
       "    .dataframe tbody tr th:only-of-type {\n",
       "        vertical-align: middle;\n",
       "    }\n",
       "\n",
       "    .dataframe tbody tr th {\n",
       "        vertical-align: top;\n",
       "    }\n",
       "\n",
       "    .dataframe thead th {\n",
       "        text-align: right;\n",
       "    }\n",
       "</style>\n",
       "<table border=\"1\" class=\"dataframe\">\n",
       "  <thead>\n",
       "    <tr style=\"text-align: right;\">\n",
       "      <th></th>\n",
       "      <th>price</th>\n",
       "      <th>price_category</th>\n",
       "      <th>review_scores_rating</th>\n",
       "    </tr>\n",
       "  </thead>\n",
       "  <tbody>\n",
       "    <tr>\n",
       "      <th>0</th>\n",
       "      <td>85.0</td>\n",
       "      <td>Low</td>\n",
       "      <td>95.0</td>\n",
       "    </tr>\n",
       "    <tr>\n",
       "      <th>1</th>\n",
       "      <td>85.0</td>\n",
       "      <td>Low</td>\n",
       "      <td>95.0</td>\n",
       "    </tr>\n",
       "    <tr>\n",
       "      <th>2</th>\n",
       "      <td>85.0</td>\n",
       "      <td>Low</td>\n",
       "      <td>95.0</td>\n",
       "    </tr>\n",
       "    <tr>\n",
       "      <th>3</th>\n",
       "      <td>85.0</td>\n",
       "      <td>Low</td>\n",
       "      <td>95.0</td>\n",
       "    </tr>\n",
       "    <tr>\n",
       "      <th>4</th>\n",
       "      <td>85.0</td>\n",
       "      <td>Low</td>\n",
       "      <td>95.0</td>\n",
       "    </tr>\n",
       "  </tbody>\n",
       "</table>\n",
       "</div>"
      ],
      "text/plain": [
       "   price price_category  review_scores_rating\n",
       "0   85.0            Low                  95.0\n",
       "1   85.0            Low                  95.0\n",
       "2   85.0            Low                  95.0\n",
       "3   85.0            Low                  95.0\n",
       "4   85.0            Low                  95.0"
      ]
     },
     "execution_count": 21,
     "metadata": {},
     "output_type": "execute_result"
    }
   ],
   "source": [
    "joined = calendar_join_ratings.drop(['listing_id','id'],axis=1)\n",
    "joined.head()"
   ]
  },
  {
   "cell_type": "code",
   "execution_count": 22,
   "metadata": {},
   "outputs": [],
   "source": [
    "price_category_grouped = joined.groupby(['price_category'],as_index=False)"
   ]
  },
  {
   "cell_type": "code",
   "execution_count": 23,
   "metadata": {},
   "outputs": [
    {
     "name": "stdout",
     "output_type": "stream",
     "text": [
      "('Lowest',)\n",
      "                         price  review_scores_rating\n",
      "price                 1.000000              0.083507\n",
      "review_scores_rating  0.083507              1.000000\n",
      "********************\n",
      "('Low',)\n",
      "                         price  review_scores_rating\n",
      "price                 1.000000              0.018733\n",
      "review_scores_rating  0.018733              1.000000\n",
      "********************\n",
      "('Medium',)\n",
      "                         price  review_scores_rating\n",
      "price                 1.000000              0.052364\n",
      "review_scores_rating  0.052364              1.000000\n",
      "********************\n",
      "('High',)\n",
      "                         price  review_scores_rating\n",
      "price                 1.000000             -0.003879\n",
      "review_scores_rating -0.003879              1.000000\n",
      "********************\n",
      "('Highest',)\n",
      "                         price  review_scores_rating\n",
      "price                 1.000000              0.084067\n",
      "review_scores_rating  0.084067              1.000000\n",
      "********************\n"
     ]
    }
   ],
   "source": [
    "for name,grp in price_category_grouped:\n",
    "    print(name)\n",
    "    print(grp[['price','review_scores_rating']].corr())\n",
    "    print(\"*\"*20)"
   ]
  },
  {
   "attachments": {},
   "cell_type": "markdown",
   "metadata": {},
   "source": [
    "No significant correlations in the different price groups. As as a sanity check let's review the correlation between price and rating for all listings."
   ]
  },
  {
   "cell_type": "code",
   "execution_count": 24,
   "metadata": {},
   "outputs": [
    {
     "data": {
      "text/html": [
       "<div>\n",
       "<style scoped>\n",
       "    .dataframe tbody tr th:only-of-type {\n",
       "        vertical-align: middle;\n",
       "    }\n",
       "\n",
       "    .dataframe tbody tr th {\n",
       "        vertical-align: top;\n",
       "    }\n",
       "\n",
       "    .dataframe thead th {\n",
       "        text-align: right;\n",
       "    }\n",
       "</style>\n",
       "<table border=\"1\" class=\"dataframe\">\n",
       "  <thead>\n",
       "    <tr style=\"text-align: right;\">\n",
       "      <th></th>\n",
       "      <th>price</th>\n",
       "      <th>review_scores_rating</th>\n",
       "    </tr>\n",
       "  </thead>\n",
       "  <tbody>\n",
       "    <tr>\n",
       "      <th>price</th>\n",
       "      <td>1.000000</td>\n",
       "      <td>0.079414</td>\n",
       "    </tr>\n",
       "    <tr>\n",
       "      <th>review_scores_rating</th>\n",
       "      <td>0.079414</td>\n",
       "      <td>1.000000</td>\n",
       "    </tr>\n",
       "  </tbody>\n",
       "</table>\n",
       "</div>"
      ],
      "text/plain": [
       "                         price  review_scores_rating\n",
       "price                 1.000000              0.079414\n",
       "review_scores_rating  0.079414              1.000000"
      ]
     },
     "execution_count": 24,
     "metadata": {},
     "output_type": "execute_result"
    }
   ],
   "source": [
    "calendar_join_ratings[['price','review_scores_rating']].corr()"
   ]
  },
  {
   "attachments": {},
   "cell_type": "markdown",
   "metadata": {},
   "source": [
    "#2: What if we group listings according not only according to price but also date? Do price fluctuate depending on the season for the listings in the various price categories (Lowest, Low, Medium, High, Highest)?"
   ]
  },
  {
   "cell_type": "code",
   "execution_count": 25,
   "metadata": {},
   "outputs": [
    {
     "data": {
      "text/html": [
       "<div>\n",
       "<style scoped>\n",
       "    .dataframe tbody tr th:only-of-type {\n",
       "        vertical-align: middle;\n",
       "    }\n",
       "\n",
       "    .dataframe tbody tr th {\n",
       "        vertical-align: top;\n",
       "    }\n",
       "\n",
       "    .dataframe thead th {\n",
       "        text-align: right;\n",
       "    }\n",
       "</style>\n",
       "<table border=\"1\" class=\"dataframe\">\n",
       "  <thead>\n",
       "    <tr style=\"text-align: right;\">\n",
       "      <th></th>\n",
       "      <th>listing_id</th>\n",
       "      <th>date</th>\n",
       "      <th>available</th>\n",
       "      <th>price</th>\n",
       "    </tr>\n",
       "  </thead>\n",
       "  <tbody>\n",
       "    <tr>\n",
       "      <th>0</th>\n",
       "      <td>241032</td>\n",
       "      <td>2016-01-04</td>\n",
       "      <td>t</td>\n",
       "      <td>85.0</td>\n",
       "    </tr>\n",
       "    <tr>\n",
       "      <th>1</th>\n",
       "      <td>241032</td>\n",
       "      <td>2016-01-05</td>\n",
       "      <td>t</td>\n",
       "      <td>85.0</td>\n",
       "    </tr>\n",
       "    <tr>\n",
       "      <th>9</th>\n",
       "      <td>241032</td>\n",
       "      <td>2016-01-13</td>\n",
       "      <td>t</td>\n",
       "      <td>85.0</td>\n",
       "    </tr>\n",
       "    <tr>\n",
       "      <th>10</th>\n",
       "      <td>241032</td>\n",
       "      <td>2016-01-14</td>\n",
       "      <td>t</td>\n",
       "      <td>85.0</td>\n",
       "    </tr>\n",
       "    <tr>\n",
       "      <th>14</th>\n",
       "      <td>241032</td>\n",
       "      <td>2016-01-18</td>\n",
       "      <td>t</td>\n",
       "      <td>85.0</td>\n",
       "    </tr>\n",
       "  </tbody>\n",
       "</table>\n",
       "</div>"
      ],
      "text/plain": [
       "    listing_id       date available  price\n",
       "0       241032 2016-01-04         t   85.0\n",
       "1       241032 2016-01-05         t   85.0\n",
       "9       241032 2016-01-13         t   85.0\n",
       "10      241032 2016-01-14         t   85.0\n",
       "14      241032 2016-01-18         t   85.0"
      ]
     },
     "execution_count": 25,
     "metadata": {},
     "output_type": "execute_result"
    }
   ],
   "source": [
    "cal_df.head()"
   ]
  },
  {
   "cell_type": "code",
   "execution_count": 26,
   "metadata": {},
   "outputs": [],
   "source": [
    "date_df = cal_df.drop(['available'],axis=1)"
   ]
  },
  {
   "cell_type": "code",
   "execution_count": 27,
   "metadata": {},
   "outputs": [],
   "source": [
    "date_df['month'] = date_df['date'].dt.month"
   ]
  },
  {
   "cell_type": "code",
   "execution_count": 28,
   "metadata": {},
   "outputs": [],
   "source": [
    "date_df['price_category'] = pd.qcut(date_df['price'],q=5,\\\n",
    "                        labels=['Lowest','Low','Medium','High','Highest']) "
   ]
  },
  {
   "cell_type": "code",
   "execution_count": 29,
   "metadata": {},
   "outputs": [],
   "source": [
    "date_grouped = date_df.groupby(['price_category','month'],as_index=False)"
   ]
  },
  {
   "cell_type": "code",
   "execution_count": 30,
   "metadata": {},
   "outputs": [
    {
     "name": "stdout",
     "output_type": "stream",
     "text": [
      "('Lowest', 1)\n",
      "('Lowest', 2)\n",
      "('Lowest', 3)\n",
      "('Lowest', 4)\n",
      "('Lowest', 5)\n",
      "('Lowest', 6)\n",
      "('Lowest', 7)\n",
      "('Lowest', 8)\n",
      "('Lowest', 9)\n",
      "('Lowest', 10)\n",
      "('Lowest', 11)\n",
      "('Lowest', 12)\n",
      "('Low', 1)\n",
      "('Low', 2)\n",
      "('Low', 3)\n",
      "('Low', 4)\n",
      "('Low', 5)\n",
      "('Low', 6)\n",
      "('Low', 7)\n",
      "('Low', 8)\n",
      "('Low', 9)\n",
      "('Low', 10)\n",
      "('Low', 11)\n",
      "('Low', 12)\n",
      "('Medium', 1)\n",
      "('Medium', 2)\n",
      "('Medium', 3)\n",
      "('Medium', 4)\n",
      "('Medium', 5)\n",
      "('Medium', 6)\n",
      "('Medium', 7)\n",
      "('Medium', 8)\n",
      "('Medium', 9)\n",
      "('Medium', 10)\n",
      "('Medium', 11)\n",
      "('Medium', 12)\n",
      "('High', 1)\n",
      "('High', 2)\n",
      "('High', 3)\n",
      "('High', 4)\n",
      "('High', 5)\n",
      "('High', 6)\n",
      "('High', 7)\n",
      "('High', 8)\n",
      "('High', 9)\n",
      "('High', 10)\n",
      "('High', 11)\n",
      "('High', 12)\n",
      "('Highest', 1)\n",
      "('Highest', 2)\n",
      "('Highest', 3)\n",
      "('Highest', 4)\n",
      "('Highest', 5)\n",
      "('Highest', 6)\n",
      "('Highest', 7)\n",
      "('Highest', 8)\n",
      "('Highest', 9)\n",
      "('Highest', 10)\n",
      "('Highest', 11)\n",
      "('Highest', 12)\n"
     ]
    }
   ],
   "source": [
    "for name,grp in date_grouped:\n",
    "    print(name)\n",
    "    # print(date_grouped.get_group(name))"
   ]
  },
  {
   "cell_type": "code",
   "execution_count": 31,
   "metadata": {},
   "outputs": [],
   "source": [
    "categories_data = {'Lowest':[],'Low':[],'Medium':[],'High':[],'Highest':[] }"
   ]
  },
  {
   "cell_type": "code",
   "execution_count": 32,
   "metadata": {},
   "outputs": [],
   "source": [
    "for name,grp in date_grouped:\n",
    "    # month_num = name[1]\n",
    "    # num_listings = grp['listing_id'].count()\n",
    "\n",
    "    median_price = grp['price'].median()\n",
    "    price_cat = name[0]\n",
    "    categories_data[price_cat].append(median_price)"
   ]
  },
  {
   "cell_type": "code",
   "execution_count": 33,
   "metadata": {},
   "outputs": [
    {
     "data": {
      "text/html": [
       "<div>\n",
       "<style scoped>\n",
       "    .dataframe tbody tr th:only-of-type {\n",
       "        vertical-align: middle;\n",
       "    }\n",
       "\n",
       "    .dataframe tbody tr th {\n",
       "        vertical-align: top;\n",
       "    }\n",
       "\n",
       "    .dataframe thead th {\n",
       "        text-align: right;\n",
       "    }\n",
       "</style>\n",
       "<table border=\"1\" class=\"dataframe\">\n",
       "  <thead>\n",
       "    <tr style=\"text-align: right;\">\n",
       "      <th></th>\n",
       "      <th>Lowest</th>\n",
       "      <th>Low</th>\n",
       "      <th>Medium</th>\n",
       "      <th>High</th>\n",
       "      <th>Highest</th>\n",
       "    </tr>\n",
       "  </thead>\n",
       "  <tbody>\n",
       "    <tr>\n",
       "      <th>0</th>\n",
       "      <td>55.0</td>\n",
       "      <td>84.0</td>\n",
       "      <td>109.0</td>\n",
       "      <td>150.0</td>\n",
       "      <td>248.0</td>\n",
       "    </tr>\n",
       "    <tr>\n",
       "      <th>1</th>\n",
       "      <td>55.0</td>\n",
       "      <td>84.0</td>\n",
       "      <td>109.0</td>\n",
       "      <td>150.0</td>\n",
       "      <td>249.0</td>\n",
       "    </tr>\n",
       "    <tr>\n",
       "      <th>2</th>\n",
       "      <td>55.0</td>\n",
       "      <td>84.0</td>\n",
       "      <td>110.0</td>\n",
       "      <td>150.0</td>\n",
       "      <td>245.0</td>\n",
       "    </tr>\n",
       "    <tr>\n",
       "      <th>3</th>\n",
       "      <td>55.0</td>\n",
       "      <td>84.0</td>\n",
       "      <td>110.0</td>\n",
       "      <td>150.0</td>\n",
       "      <td>249.0</td>\n",
       "    </tr>\n",
       "    <tr>\n",
       "      <th>4</th>\n",
       "      <td>55.0</td>\n",
       "      <td>85.0</td>\n",
       "      <td>110.0</td>\n",
       "      <td>150.0</td>\n",
       "      <td>250.0</td>\n",
       "    </tr>\n",
       "    <tr>\n",
       "      <th>5</th>\n",
       "      <td>55.0</td>\n",
       "      <td>84.0</td>\n",
       "      <td>110.0</td>\n",
       "      <td>150.0</td>\n",
       "      <td>257.0</td>\n",
       "    </tr>\n",
       "    <tr>\n",
       "      <th>6</th>\n",
       "      <td>55.0</td>\n",
       "      <td>83.0</td>\n",
       "      <td>110.0</td>\n",
       "      <td>150.0</td>\n",
       "      <td>265.0</td>\n",
       "    </tr>\n",
       "    <tr>\n",
       "      <th>7</th>\n",
       "      <td>55.0</td>\n",
       "      <td>85.0</td>\n",
       "      <td>110.0</td>\n",
       "      <td>150.0</td>\n",
       "      <td>265.0</td>\n",
       "    </tr>\n",
       "    <tr>\n",
       "      <th>8</th>\n",
       "      <td>55.0</td>\n",
       "      <td>85.0</td>\n",
       "      <td>110.0</td>\n",
       "      <td>150.0</td>\n",
       "      <td>250.0</td>\n",
       "    </tr>\n",
       "    <tr>\n",
       "      <th>9</th>\n",
       "      <td>55.0</td>\n",
       "      <td>85.0</td>\n",
       "      <td>110.0</td>\n",
       "      <td>150.0</td>\n",
       "      <td>250.0</td>\n",
       "    </tr>\n",
       "    <tr>\n",
       "      <th>10</th>\n",
       "      <td>55.0</td>\n",
       "      <td>85.0</td>\n",
       "      <td>110.0</td>\n",
       "      <td>150.0</td>\n",
       "      <td>250.0</td>\n",
       "    </tr>\n",
       "    <tr>\n",
       "      <th>11</th>\n",
       "      <td>55.0</td>\n",
       "      <td>85.0</td>\n",
       "      <td>110.0</td>\n",
       "      <td>150.0</td>\n",
       "      <td>250.0</td>\n",
       "    </tr>\n",
       "  </tbody>\n",
       "</table>\n",
       "</div>"
      ],
      "text/plain": [
       "    Lowest   Low  Medium   High  Highest\n",
       "0     55.0  84.0   109.0  150.0    248.0\n",
       "1     55.0  84.0   109.0  150.0    249.0\n",
       "2     55.0  84.0   110.0  150.0    245.0\n",
       "3     55.0  84.0   110.0  150.0    249.0\n",
       "4     55.0  85.0   110.0  150.0    250.0\n",
       "5     55.0  84.0   110.0  150.0    257.0\n",
       "6     55.0  83.0   110.0  150.0    265.0\n",
       "7     55.0  85.0   110.0  150.0    265.0\n",
       "8     55.0  85.0   110.0  150.0    250.0\n",
       "9     55.0  85.0   110.0  150.0    250.0\n",
       "10    55.0  85.0   110.0  150.0    250.0\n",
       "11    55.0  85.0   110.0  150.0    250.0"
      ]
     },
     "execution_count": 33,
     "metadata": {},
     "output_type": "execute_result"
    }
   ],
   "source": [
    "summary_df = pd.DataFrame(data=categories_data,\\\n",
    "                          columns=categories_data.keys())\n",
    "\n",
    "summary_df"
   ]
  },
  {
   "cell_type": "code",
   "execution_count": 34,
   "metadata": {},
   "outputs": [
    {
     "data": {
      "text/html": [
       "<style type=\"text/css\">\n",
       "#T_813ca_row0_col0, #T_813ca_row0_col3, #T_813ca_row1_col0, #T_813ca_row1_col3, #T_813ca_row2_col0, #T_813ca_row2_col2, #T_813ca_row2_col3, #T_813ca_row3_col0, #T_813ca_row3_col2, #T_813ca_row3_col3, #T_813ca_row4_col0, #T_813ca_row4_col1, #T_813ca_row4_col2, #T_813ca_row4_col3, #T_813ca_row5_col0, #T_813ca_row5_col2, #T_813ca_row5_col3, #T_813ca_row6_col0, #T_813ca_row6_col2, #T_813ca_row6_col3, #T_813ca_row6_col4, #T_813ca_row7_col0, #T_813ca_row7_col1, #T_813ca_row7_col2, #T_813ca_row7_col3, #T_813ca_row7_col4, #T_813ca_row8_col0, #T_813ca_row8_col1, #T_813ca_row8_col2, #T_813ca_row8_col3, #T_813ca_row9_col0, #T_813ca_row9_col1, #T_813ca_row9_col2, #T_813ca_row9_col3, #T_813ca_row10_col0, #T_813ca_row10_col1, #T_813ca_row10_col2, #T_813ca_row10_col3, #T_813ca_row11_col0, #T_813ca_row11_col1, #T_813ca_row11_col2, #T_813ca_row11_col3 {\n",
       "  color: red;\n",
       "}\n",
       "</style>\n",
       "<table id=\"T_813ca\">\n",
       "  <thead>\n",
       "    <tr>\n",
       "      <th class=\"blank level0\" >&nbsp;</th>\n",
       "      <th id=\"T_813ca_level0_col0\" class=\"col_heading level0 col0\" >Lowest</th>\n",
       "      <th id=\"T_813ca_level0_col1\" class=\"col_heading level0 col1\" >Low</th>\n",
       "      <th id=\"T_813ca_level0_col2\" class=\"col_heading level0 col2\" >Medium</th>\n",
       "      <th id=\"T_813ca_level0_col3\" class=\"col_heading level0 col3\" >High</th>\n",
       "      <th id=\"T_813ca_level0_col4\" class=\"col_heading level0 col4\" >Highest</th>\n",
       "    </tr>\n",
       "  </thead>\n",
       "  <tbody>\n",
       "    <tr>\n",
       "      <th id=\"T_813ca_level0_row0\" class=\"row_heading level0 row0\" >0</th>\n",
       "      <td id=\"T_813ca_row0_col0\" class=\"data row0 col0\" >55.000000</td>\n",
       "      <td id=\"T_813ca_row0_col1\" class=\"data row0 col1\" >84.000000</td>\n",
       "      <td id=\"T_813ca_row0_col2\" class=\"data row0 col2\" >109.000000</td>\n",
       "      <td id=\"T_813ca_row0_col3\" class=\"data row0 col3\" >150.000000</td>\n",
       "      <td id=\"T_813ca_row0_col4\" class=\"data row0 col4\" >248.000000</td>\n",
       "    </tr>\n",
       "    <tr>\n",
       "      <th id=\"T_813ca_level0_row1\" class=\"row_heading level0 row1\" >1</th>\n",
       "      <td id=\"T_813ca_row1_col0\" class=\"data row1 col0\" >55.000000</td>\n",
       "      <td id=\"T_813ca_row1_col1\" class=\"data row1 col1\" >84.000000</td>\n",
       "      <td id=\"T_813ca_row1_col2\" class=\"data row1 col2\" >109.000000</td>\n",
       "      <td id=\"T_813ca_row1_col3\" class=\"data row1 col3\" >150.000000</td>\n",
       "      <td id=\"T_813ca_row1_col4\" class=\"data row1 col4\" >249.000000</td>\n",
       "    </tr>\n",
       "    <tr>\n",
       "      <th id=\"T_813ca_level0_row2\" class=\"row_heading level0 row2\" >2</th>\n",
       "      <td id=\"T_813ca_row2_col0\" class=\"data row2 col0\" >55.000000</td>\n",
       "      <td id=\"T_813ca_row2_col1\" class=\"data row2 col1\" >84.000000</td>\n",
       "      <td id=\"T_813ca_row2_col2\" class=\"data row2 col2\" >110.000000</td>\n",
       "      <td id=\"T_813ca_row2_col3\" class=\"data row2 col3\" >150.000000</td>\n",
       "      <td id=\"T_813ca_row2_col4\" class=\"data row2 col4\" >245.000000</td>\n",
       "    </tr>\n",
       "    <tr>\n",
       "      <th id=\"T_813ca_level0_row3\" class=\"row_heading level0 row3\" >3</th>\n",
       "      <td id=\"T_813ca_row3_col0\" class=\"data row3 col0\" >55.000000</td>\n",
       "      <td id=\"T_813ca_row3_col1\" class=\"data row3 col1\" >84.000000</td>\n",
       "      <td id=\"T_813ca_row3_col2\" class=\"data row3 col2\" >110.000000</td>\n",
       "      <td id=\"T_813ca_row3_col3\" class=\"data row3 col3\" >150.000000</td>\n",
       "      <td id=\"T_813ca_row3_col4\" class=\"data row3 col4\" >249.000000</td>\n",
       "    </tr>\n",
       "    <tr>\n",
       "      <th id=\"T_813ca_level0_row4\" class=\"row_heading level0 row4\" >4</th>\n",
       "      <td id=\"T_813ca_row4_col0\" class=\"data row4 col0\" >55.000000</td>\n",
       "      <td id=\"T_813ca_row4_col1\" class=\"data row4 col1\" >85.000000</td>\n",
       "      <td id=\"T_813ca_row4_col2\" class=\"data row4 col2\" >110.000000</td>\n",
       "      <td id=\"T_813ca_row4_col3\" class=\"data row4 col3\" >150.000000</td>\n",
       "      <td id=\"T_813ca_row4_col4\" class=\"data row4 col4\" >250.000000</td>\n",
       "    </tr>\n",
       "    <tr>\n",
       "      <th id=\"T_813ca_level0_row5\" class=\"row_heading level0 row5\" >5</th>\n",
       "      <td id=\"T_813ca_row5_col0\" class=\"data row5 col0\" >55.000000</td>\n",
       "      <td id=\"T_813ca_row5_col1\" class=\"data row5 col1\" >84.000000</td>\n",
       "      <td id=\"T_813ca_row5_col2\" class=\"data row5 col2\" >110.000000</td>\n",
       "      <td id=\"T_813ca_row5_col3\" class=\"data row5 col3\" >150.000000</td>\n",
       "      <td id=\"T_813ca_row5_col4\" class=\"data row5 col4\" >257.000000</td>\n",
       "    </tr>\n",
       "    <tr>\n",
       "      <th id=\"T_813ca_level0_row6\" class=\"row_heading level0 row6\" >6</th>\n",
       "      <td id=\"T_813ca_row6_col0\" class=\"data row6 col0\" >55.000000</td>\n",
       "      <td id=\"T_813ca_row6_col1\" class=\"data row6 col1\" >83.000000</td>\n",
       "      <td id=\"T_813ca_row6_col2\" class=\"data row6 col2\" >110.000000</td>\n",
       "      <td id=\"T_813ca_row6_col3\" class=\"data row6 col3\" >150.000000</td>\n",
       "      <td id=\"T_813ca_row6_col4\" class=\"data row6 col4\" >265.000000</td>\n",
       "    </tr>\n",
       "    <tr>\n",
       "      <th id=\"T_813ca_level0_row7\" class=\"row_heading level0 row7\" >7</th>\n",
       "      <td id=\"T_813ca_row7_col0\" class=\"data row7 col0\" >55.000000</td>\n",
       "      <td id=\"T_813ca_row7_col1\" class=\"data row7 col1\" >85.000000</td>\n",
       "      <td id=\"T_813ca_row7_col2\" class=\"data row7 col2\" >110.000000</td>\n",
       "      <td id=\"T_813ca_row7_col3\" class=\"data row7 col3\" >150.000000</td>\n",
       "      <td id=\"T_813ca_row7_col4\" class=\"data row7 col4\" >265.000000</td>\n",
       "    </tr>\n",
       "    <tr>\n",
       "      <th id=\"T_813ca_level0_row8\" class=\"row_heading level0 row8\" >8</th>\n",
       "      <td id=\"T_813ca_row8_col0\" class=\"data row8 col0\" >55.000000</td>\n",
       "      <td id=\"T_813ca_row8_col1\" class=\"data row8 col1\" >85.000000</td>\n",
       "      <td id=\"T_813ca_row8_col2\" class=\"data row8 col2\" >110.000000</td>\n",
       "      <td id=\"T_813ca_row8_col3\" class=\"data row8 col3\" >150.000000</td>\n",
       "      <td id=\"T_813ca_row8_col4\" class=\"data row8 col4\" >250.000000</td>\n",
       "    </tr>\n",
       "    <tr>\n",
       "      <th id=\"T_813ca_level0_row9\" class=\"row_heading level0 row9\" >9</th>\n",
       "      <td id=\"T_813ca_row9_col0\" class=\"data row9 col0\" >55.000000</td>\n",
       "      <td id=\"T_813ca_row9_col1\" class=\"data row9 col1\" >85.000000</td>\n",
       "      <td id=\"T_813ca_row9_col2\" class=\"data row9 col2\" >110.000000</td>\n",
       "      <td id=\"T_813ca_row9_col3\" class=\"data row9 col3\" >150.000000</td>\n",
       "      <td id=\"T_813ca_row9_col4\" class=\"data row9 col4\" >250.000000</td>\n",
       "    </tr>\n",
       "    <tr>\n",
       "      <th id=\"T_813ca_level0_row10\" class=\"row_heading level0 row10\" >10</th>\n",
       "      <td id=\"T_813ca_row10_col0\" class=\"data row10 col0\" >55.000000</td>\n",
       "      <td id=\"T_813ca_row10_col1\" class=\"data row10 col1\" >85.000000</td>\n",
       "      <td id=\"T_813ca_row10_col2\" class=\"data row10 col2\" >110.000000</td>\n",
       "      <td id=\"T_813ca_row10_col3\" class=\"data row10 col3\" >150.000000</td>\n",
       "      <td id=\"T_813ca_row10_col4\" class=\"data row10 col4\" >250.000000</td>\n",
       "    </tr>\n",
       "    <tr>\n",
       "      <th id=\"T_813ca_level0_row11\" class=\"row_heading level0 row11\" >11</th>\n",
       "      <td id=\"T_813ca_row11_col0\" class=\"data row11 col0\" >55.000000</td>\n",
       "      <td id=\"T_813ca_row11_col1\" class=\"data row11 col1\" >85.000000</td>\n",
       "      <td id=\"T_813ca_row11_col2\" class=\"data row11 col2\" >110.000000</td>\n",
       "      <td id=\"T_813ca_row11_col3\" class=\"data row11 col3\" >150.000000</td>\n",
       "      <td id=\"T_813ca_row11_col4\" class=\"data row11 col4\" >250.000000</td>\n",
       "    </tr>\n",
       "  </tbody>\n",
       "</table>\n"
      ],
      "text/plain": [
       "<pandas.io.formats.style.Styler at 0x7f2d0b4cee90>"
      ]
     },
     "execution_count": 34,
     "metadata": {},
     "output_type": "execute_result"
    }
   ],
   "source": [
    "def highlight_max(a_col,color):\n",
    "    return np.where(a_col == np.nanmax(a_col.to_numpy()),\\\n",
    "                    f\"color: {color}\", None)\n",
    "\n",
    "summary_df.style.apply(highlight_max,color=\"red\")\n",
    "\n",
    "\n",
    "\n"
   ]
  },
  {
   "attachments": {},
   "cell_type": "markdown",
   "metadata": {},
   "source": [
    "What is the most expensive month for each category? Least expensive?"
   ]
  },
  {
   "cell_type": "code",
   "execution_count": 35,
   "metadata": {},
   "outputs": [
    {
     "data": {
      "image/png": "[encoded data removed]",
      "text/plain": [
       "<Figure size 640x480 with 1 Axes>"
      ]
     },
     "metadata": {},
     "output_type": "display_data"
    }
   ],
   "source": [
    "sns.lineplot(data=summary_df).set_title(\"Median Price For Category\")\n",
    "plt.show()"
   ]
  },
  {
   "cell_type": "code",
   "execution_count": 36,
   "metadata": {},
   "outputs": [],
   "source": [
    "# categories = ['Lowest','Low','Medium','High','Highest']\n",
    "# x = [month for month in summary_df['month'].unique()]\n",
    "# y = {}\n",
    "# for cat in categories:\n",
    "#     category_price_series = summary_df[summary_df['price_category'] == cat]['median_price']\n",
    "#     y[cat] = category_price_series\n"
   ]
  },
  {
   "cell_type": "code",
   "execution_count": null,
   "metadata": {},
   "outputs": [],
   "source": []
  }
 ],
 "metadata": {
  "kernelspec": {
   "display_name": "explore_data",
   "language": "python",
   "name": "python3"
  },
  "language_info": {
   "codemirror_mode": {
    "name": "ipython",
    "version": 3
   },
   "file_extension": ".py",
   "mimetype": "text/x-python",
   "name": "python",
   "nbconvert_exporter": "python",
   "pygments_lexer": "ipython3",
   "version": "3.10.12"
  },
  "orig_nbformat": 4,
  "vscode": {
   "interpreter": {
    "hash": "61ee244c42315ecc49a37ad94395d343cf26155652760a1aec32be1e60ecf717"
   }
  }
 },
 "nbformat": 4,
 "nbformat_minor": 2
}
